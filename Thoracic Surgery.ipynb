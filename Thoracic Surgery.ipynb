{
 "cells": [
  {
   "cell_type": "markdown",
   "metadata": {},
   "source": [
    "<h3> Predicting whether a patient will survive the first year after lung cancer surgery - using machine learning. </h3>\n",
    "<br>\n",
    "\n",
    "  <ul>\n",
    "    <li>Imports</li>\n",
    "    <li>Load the dataset and Exploration</li>\n",
    "    <li>Prepering data before modeling</li>\n",
    "    <li>Modeling</li>\n",
    "    <li>SVM</li>\n",
    "    <li>Random Forest Classifer</li>\n",
    "    <li>Cross Validation</li>\n",
    "    <li>Summary</li>\n",
    "  </ul>\n",
    "<br><br>\n",
    "\n",
    "<h3>1. Problem Definition</h3>\n",
    "<br>\n",
    "\n",
    "  <p>In this project, the problem that we will be investigating is binary classification.\n",
    "  We will use numbers of different features (information) about patients to predict whether they will survive the first year after surgery.</p>\n",
    "  <br>\n",
    "  <blockquote>The data is dedicated to classification problem related to the post-operative life expectancy in the lung cancer patients after thoracic surgery in which there are two classes class 1 - the death of patients within one year after surgery and class 2 – the patients who survive.</blockquote>\n",
    "\n",
    "<br><br>\n",
    "\n",
    "<h3>2. Data</h3>\n",
    "<br>\n",
    "\n",
    "  <p>The original data came from the <a href=\"https://www.kaggle.com/sid321axn/thoraric-surgery\">kaggle</a>.\n",
    "  The database cantains 18 atributes (features), but here 16 atributes will be use. I will also add one feature myself.</p>\n",
    "  <br>\n",
    "\n",
    "<h5>Data Dictionary</h5>\n",
    "<br>\n",
    "\n",
    "  <p>The following are the features we'll use to predict our target variable (1 year survival period).</p>\n",
    "  <br>\n",
    "\n",
    "  <ol>\n",
    "    <li>ID</li><br>\n",
    "    <li>DGN: Diagnosis - specific combination of ICD-10 codes for primary and secondary as well multiple tumours if any (DGN3,DGN2,DGN4,DGN6,DGN5,DGN8,DGN1)</li><br>\n",
    "    <li>PRE4: Forced vital capacity - FVC (numeric)</li><br>\n",
    "    <li>PRE5: Volume that has been exhaled at the end of the first second of forced expiration - FEV1 (numeric)</li><br>\n",
    "    <li>PRE6: Performance status - Zubrod scale (PRZ2,PRZ1,PRZ0)</li><br>\n",
    "    <li>PRE7: Pain before surgery (T,F)</li><br>\n",
    "    <li>PRE8: Haemoptysis before surgery (T,F)</li><br>\n",
    "    <li>PRE9: Dyspnoea before surgery (T,F)</li><br>\n",
    "    <li>PRE10: Cough before surgery (T,F)</li><br>\n",
    "    <li>PRE11: Weakness before surgery (T,F)</li><br>\n",
    "    <li>PRE14: T in clinical TNM - size of the original tumour, from OC11 (smallest) to OC14 (largest) (OC11,OC14,OC12,OC13)</li><br>\n",
    "    <li>PRE17: Type 2 DM - diabetes mellitus (T,F)</li><br>\n",
    "    <li>PRE19: MI up to 6 months (T,F)</li><br>\n",
    "    <li>PRE25: PAD - peripheral arterial diseases (T,F)</li><br>\n",
    "    <li>PRE30: Smoking (T,F)</li><br>\n",
    "    <li>PRE32: Asthma (T,F)</li><br>\n",
    "    <li>AGE: Age at surgery (numeric)</li><br>\n",
    "    <li>Risk1Y: 1 year survival period - (T)rue value if died (T,F)</li><br><br>\n",
    "    <li>RATIO = PRE5/PRE4</li><br>\n",
    "  </ol>\n",
    "  \n",
    "  "
   ]
  },
  {
   "cell_type": "markdown",
   "metadata": {},
   "source": [
    "<h5>Imports</h5>"
   ]
  },
  {
   "cell_type": "code",
   "execution_count": 1,
   "metadata": {
    "scrolled": true
   },
   "outputs": [],
   "source": [
    "import pandas as pd\n",
    "import numpy as np\n",
    "import seaborn as sns\n",
    "import matplotlib.pyplot as plt\n",
    "\n",
    "from sklearn.model_selection import GridSearchCV # for tuning a models\n",
    "from sklearn.model_selection import train_test_split #Split arrays or matrices into random train and test subsets\n",
    "from sklearn.model_selection import cross_val_score #Evaluate a score by cross-validation\n",
    "\n",
    "from sklearn.metrics import confusion_matrix # Compute confusion matrix to evaluate the accuracy of a classification\n",
    "from sklearn.metrics import plot_confusion_matrix # Plot Confusion Matrix\n",
    "from sklearn.metrics import classification_report # Build a text report showing the main classification metrics\n",
    "\n",
    "# Models\n",
    "from sklearn.ensemble import RandomForestClassifier\n",
    "from sklearn.svm import SVC\n",
    "from sklearn.linear_model import LogisticRegression\n",
    "\n",
    "from imblearn.over_sampling import SMOTE # provides a set of method to perform over-sampling\n",
    "\n",
    "# We want our plots to appear in the notebook\n",
    "%matplotlib inline"
   ]
  },
  {
   "cell_type": "markdown",
   "metadata": {},
   "source": [
    "<h5>Load and Exploration Data</h5>"
   ]
  },
  {
   "cell_type": "code",
   "execution_count": 2,
   "metadata": {},
   "outputs": [],
   "source": [
    "df = pd.read_csv('ThoraricSurgery.csv')"
   ]
  },
  {
   "cell_type": "code",
   "execution_count": 3,
   "metadata": {},
   "outputs": [
    {
     "data": {
      "text/html": [
       "<div>\n",
       "<style scoped>\n",
       "    .dataframe tbody tr th:only-of-type {\n",
       "        vertical-align: middle;\n",
       "    }\n",
       "\n",
       "    .dataframe tbody tr th {\n",
       "        vertical-align: top;\n",
       "    }\n",
       "\n",
       "    .dataframe thead th {\n",
       "        text-align: right;\n",
       "    }\n",
       "</style>\n",
       "<table border=\"1\" class=\"dataframe\">\n",
       "  <thead>\n",
       "    <tr style=\"text-align: right;\">\n",
       "      <th></th>\n",
       "      <th>id</th>\n",
       "      <th>DGN</th>\n",
       "      <th>PRE4</th>\n",
       "      <th>PRE5</th>\n",
       "      <th>PRE6</th>\n",
       "      <th>PRE7</th>\n",
       "      <th>PRE8</th>\n",
       "      <th>PRE9</th>\n",
       "      <th>PRE10</th>\n",
       "      <th>PRE11</th>\n",
       "      <th>PRE14</th>\n",
       "      <th>PRE17</th>\n",
       "      <th>PRE19</th>\n",
       "      <th>PRE25</th>\n",
       "      <th>PRE30</th>\n",
       "      <th>PRE32</th>\n",
       "      <th>AGE</th>\n",
       "      <th>Risk1Yr</th>\n",
       "    </tr>\n",
       "  </thead>\n",
       "  <tbody>\n",
       "    <tr>\n",
       "      <th>0</th>\n",
       "      <td>1</td>\n",
       "      <td>DGN2</td>\n",
       "      <td>2.88</td>\n",
       "      <td>2.16</td>\n",
       "      <td>PRZ1</td>\n",
       "      <td>F</td>\n",
       "      <td>F</td>\n",
       "      <td>F</td>\n",
       "      <td>T</td>\n",
       "      <td>T</td>\n",
       "      <td>OC14</td>\n",
       "      <td>F</td>\n",
       "      <td>F</td>\n",
       "      <td>F</td>\n",
       "      <td>T</td>\n",
       "      <td>F</td>\n",
       "      <td>60</td>\n",
       "      <td>F</td>\n",
       "    </tr>\n",
       "    <tr>\n",
       "      <th>1</th>\n",
       "      <td>2</td>\n",
       "      <td>DGN3</td>\n",
       "      <td>3.40</td>\n",
       "      <td>1.88</td>\n",
       "      <td>PRZ0</td>\n",
       "      <td>F</td>\n",
       "      <td>F</td>\n",
       "      <td>F</td>\n",
       "      <td>F</td>\n",
       "      <td>F</td>\n",
       "      <td>OC12</td>\n",
       "      <td>F</td>\n",
       "      <td>F</td>\n",
       "      <td>F</td>\n",
       "      <td>T</td>\n",
       "      <td>F</td>\n",
       "      <td>51</td>\n",
       "      <td>F</td>\n",
       "    </tr>\n",
       "    <tr>\n",
       "      <th>2</th>\n",
       "      <td>3</td>\n",
       "      <td>DGN3</td>\n",
       "      <td>2.76</td>\n",
       "      <td>2.08</td>\n",
       "      <td>PRZ1</td>\n",
       "      <td>F</td>\n",
       "      <td>F</td>\n",
       "      <td>F</td>\n",
       "      <td>T</td>\n",
       "      <td>F</td>\n",
       "      <td>OC11</td>\n",
       "      <td>F</td>\n",
       "      <td>F</td>\n",
       "      <td>F</td>\n",
       "      <td>T</td>\n",
       "      <td>F</td>\n",
       "      <td>59</td>\n",
       "      <td>F</td>\n",
       "    </tr>\n",
       "    <tr>\n",
       "      <th>3</th>\n",
       "      <td>4</td>\n",
       "      <td>DGN3</td>\n",
       "      <td>3.68</td>\n",
       "      <td>3.04</td>\n",
       "      <td>PRZ0</td>\n",
       "      <td>F</td>\n",
       "      <td>F</td>\n",
       "      <td>F</td>\n",
       "      <td>F</td>\n",
       "      <td>F</td>\n",
       "      <td>OC11</td>\n",
       "      <td>F</td>\n",
       "      <td>F</td>\n",
       "      <td>F</td>\n",
       "      <td>F</td>\n",
       "      <td>F</td>\n",
       "      <td>54</td>\n",
       "      <td>F</td>\n",
       "    </tr>\n",
       "    <tr>\n",
       "      <th>4</th>\n",
       "      <td>5</td>\n",
       "      <td>DGN3</td>\n",
       "      <td>2.44</td>\n",
       "      <td>0.96</td>\n",
       "      <td>PRZ2</td>\n",
       "      <td>F</td>\n",
       "      <td>T</td>\n",
       "      <td>F</td>\n",
       "      <td>T</td>\n",
       "      <td>T</td>\n",
       "      <td>OC11</td>\n",
       "      <td>F</td>\n",
       "      <td>F</td>\n",
       "      <td>F</td>\n",
       "      <td>T</td>\n",
       "      <td>F</td>\n",
       "      <td>73</td>\n",
       "      <td>T</td>\n",
       "    </tr>\n",
       "  </tbody>\n",
       "</table>\n",
       "</div>"
      ],
      "text/plain": [
       "   id   DGN  PRE4  PRE5  PRE6 PRE7 PRE8 PRE9 PRE10 PRE11 PRE14 PRE17 PRE19  \\\n",
       "0   1  DGN2  2.88  2.16  PRZ1    F    F    F     T     T  OC14     F     F   \n",
       "1   2  DGN3  3.40  1.88  PRZ0    F    F    F     F     F  OC12     F     F   \n",
       "2   3  DGN3  2.76  2.08  PRZ1    F    F    F     T     F  OC11     F     F   \n",
       "3   4  DGN3  3.68  3.04  PRZ0    F    F    F     F     F  OC11     F     F   \n",
       "4   5  DGN3  2.44  0.96  PRZ2    F    T    F     T     T  OC11     F     F   \n",
       "\n",
       "  PRE25 PRE30 PRE32  AGE Risk1Yr  \n",
       "0     F     T     F   60       F  \n",
       "1     F     T     F   51       F  \n",
       "2     F     T     F   59       F  \n",
       "3     F     F     F   54       F  \n",
       "4     F     T     F   73       T  "
      ]
     },
     "execution_count": 3,
     "metadata": {},
     "output_type": "execute_result"
    }
   ],
   "source": [
    "df.head()"
   ]
  },
  {
   "cell_type": "code",
   "execution_count": 4,
   "metadata": {},
   "outputs": [
    {
     "name": "stdout",
     "output_type": "stream",
     "text": [
      "<class 'pandas.core.frame.DataFrame'>\n",
      "RangeIndex: 470 entries, 0 to 469\n",
      "Data columns (total 18 columns):\n",
      " #   Column   Non-Null Count  Dtype  \n",
      "---  ------   --------------  -----  \n",
      " 0   id       470 non-null    int64  \n",
      " 1   DGN      470 non-null    object \n",
      " 2   PRE4     470 non-null    float64\n",
      " 3   PRE5     470 non-null    float64\n",
      " 4   PRE6     470 non-null    object \n",
      " 5   PRE7     470 non-null    object \n",
      " 6   PRE8     470 non-null    object \n",
      " 7   PRE9     470 non-null    object \n",
      " 8   PRE10    470 non-null    object \n",
      " 9   PRE11    470 non-null    object \n",
      " 10  PRE14    470 non-null    object \n",
      " 11  PRE17    470 non-null    object \n",
      " 12  PRE19    470 non-null    object \n",
      " 13  PRE25    470 non-null    object \n",
      " 14  PRE30    470 non-null    object \n",
      " 15  PRE32    470 non-null    object \n",
      " 16  AGE      470 non-null    int64  \n",
      " 17  Risk1Yr  470 non-null    object \n",
      "dtypes: float64(2), int64(2), object(14)\n",
      "memory usage: 66.2+ KB\n"
     ]
    }
   ],
   "source": [
    "df.info()"
   ]
  },
  {
   "cell_type": "code",
   "execution_count": 5,
   "metadata": {},
   "outputs": [
    {
     "data": {
      "text/html": [
       "<div>\n",
       "<style scoped>\n",
       "    .dataframe tbody tr th:only-of-type {\n",
       "        vertical-align: middle;\n",
       "    }\n",
       "\n",
       "    .dataframe tbody tr th {\n",
       "        vertical-align: top;\n",
       "    }\n",
       "\n",
       "    .dataframe thead th {\n",
       "        text-align: right;\n",
       "    }\n",
       "</style>\n",
       "<table border=\"1\" class=\"dataframe\">\n",
       "  <thead>\n",
       "    <tr style=\"text-align: right;\">\n",
       "      <th></th>\n",
       "      <th>id</th>\n",
       "      <th>DGN</th>\n",
       "      <th>PRE4</th>\n",
       "      <th>PRE5</th>\n",
       "      <th>PRE6</th>\n",
       "      <th>PRE7</th>\n",
       "      <th>PRE8</th>\n",
       "      <th>PRE9</th>\n",
       "      <th>PRE10</th>\n",
       "      <th>PRE11</th>\n",
       "      <th>PRE14</th>\n",
       "      <th>PRE17</th>\n",
       "      <th>PRE19</th>\n",
       "      <th>PRE25</th>\n",
       "      <th>PRE30</th>\n",
       "      <th>PRE32</th>\n",
       "      <th>AGE</th>\n",
       "      <th>Risk1Yr</th>\n",
       "    </tr>\n",
       "  </thead>\n",
       "  <tbody>\n",
       "  </tbody>\n",
       "</table>\n",
       "</div>"
      ],
      "text/plain": [
       "Empty DataFrame\n",
       "Columns: [id, DGN, PRE4, PRE5, PRE6, PRE7, PRE8, PRE9, PRE10, PRE11, PRE14, PRE17, PRE19, PRE25, PRE30, PRE32, AGE, Risk1Yr]\n",
       "Index: []"
      ]
     },
     "execution_count": 5,
     "metadata": {},
     "output_type": "execute_result"
    }
   ],
   "source": [
    "# Checking if we have 0 value in float dtypes\n",
    "df[(df['PRE4'] == 0) | (df['PRE5'] == 0)]"
   ]
  },
  {
   "cell_type": "markdown",
   "metadata": {},
   "source": [
    "<p>The most of the features are non numeric. They are T or F, which is true or false. We will change all of it to 1 for T, and 0 for F.</p>\n",
    "<p>Apllies to: PRE7, PRE8, PRE9, PRE10, PRE11, PRE17, PRE19, PRE25, PRE30, PRE32, Risk1Y</p>\n",
    "       "
   ]
  },
  {
   "cell_type": "code",
   "execution_count": 6,
   "metadata": {},
   "outputs": [],
   "source": [
    "# Data is small so I do copy.\n",
    "# df2 will be my new data on which I will make changes\n",
    "df2 = df.copy()"
   ]
  },
  {
   "cell_type": "code",
   "execution_count": 7,
   "metadata": {},
   "outputs": [],
   "source": [
    "# I change all 'T' to 1 and 'F' to 0 in df2 using the lambda function\n",
    "df2[['PRE7', 'PRE8', 'PRE9', 'PRE10', 'PRE11', 'PRE17', 'PRE19', 'PRE25', \n",
    "     'PRE30', 'PRE32', 'Risk1Yr']] = df2[['PRE7', 'PRE8', 'PRE9', 'PRE10', 'PRE11', \n",
    "                                          'PRE17', 'PRE19', 'PRE25', 'PRE30', 'PRE32', \n",
    "                                          'Risk1Yr']].apply(lambda x: np.where(x == 'T', 1, 0)) "
   ]
  },
  {
   "cell_type": "code",
   "execution_count": 8,
   "metadata": {},
   "outputs": [
    {
     "data": {
      "text/html": [
       "<div>\n",
       "<style scoped>\n",
       "    .dataframe tbody tr th:only-of-type {\n",
       "        vertical-align: middle;\n",
       "    }\n",
       "\n",
       "    .dataframe tbody tr th {\n",
       "        vertical-align: top;\n",
       "    }\n",
       "\n",
       "    .dataframe thead th {\n",
       "        text-align: right;\n",
       "    }\n",
       "</style>\n",
       "<table border=\"1\" class=\"dataframe\">\n",
       "  <thead>\n",
       "    <tr style=\"text-align: right;\">\n",
       "      <th></th>\n",
       "      <th>PRE7</th>\n",
       "      <th>PRE8</th>\n",
       "      <th>PRE9</th>\n",
       "      <th>PRE10</th>\n",
       "      <th>PRE11</th>\n",
       "      <th>PRE17</th>\n",
       "      <th>PRE19</th>\n",
       "      <th>PRE25</th>\n",
       "      <th>PRE30</th>\n",
       "      <th>PRE32</th>\n",
       "      <th>Risk1Yr</th>\n",
       "    </tr>\n",
       "  </thead>\n",
       "  <tbody>\n",
       "    <tr>\n",
       "      <th>0</th>\n",
       "      <td>0</td>\n",
       "      <td>0</td>\n",
       "      <td>0</td>\n",
       "      <td>1</td>\n",
       "      <td>1</td>\n",
       "      <td>0</td>\n",
       "      <td>0</td>\n",
       "      <td>0</td>\n",
       "      <td>1</td>\n",
       "      <td>0</td>\n",
       "      <td>0</td>\n",
       "    </tr>\n",
       "    <tr>\n",
       "      <th>1</th>\n",
       "      <td>0</td>\n",
       "      <td>0</td>\n",
       "      <td>0</td>\n",
       "      <td>0</td>\n",
       "      <td>0</td>\n",
       "      <td>0</td>\n",
       "      <td>0</td>\n",
       "      <td>0</td>\n",
       "      <td>1</td>\n",
       "      <td>0</td>\n",
       "      <td>0</td>\n",
       "    </tr>\n",
       "    <tr>\n",
       "      <th>2</th>\n",
       "      <td>0</td>\n",
       "      <td>0</td>\n",
       "      <td>0</td>\n",
       "      <td>1</td>\n",
       "      <td>0</td>\n",
       "      <td>0</td>\n",
       "      <td>0</td>\n",
       "      <td>0</td>\n",
       "      <td>1</td>\n",
       "      <td>0</td>\n",
       "      <td>0</td>\n",
       "    </tr>\n",
       "    <tr>\n",
       "      <th>3</th>\n",
       "      <td>0</td>\n",
       "      <td>0</td>\n",
       "      <td>0</td>\n",
       "      <td>0</td>\n",
       "      <td>0</td>\n",
       "      <td>0</td>\n",
       "      <td>0</td>\n",
       "      <td>0</td>\n",
       "      <td>0</td>\n",
       "      <td>0</td>\n",
       "      <td>0</td>\n",
       "    </tr>\n",
       "    <tr>\n",
       "      <th>4</th>\n",
       "      <td>0</td>\n",
       "      <td>1</td>\n",
       "      <td>0</td>\n",
       "      <td>1</td>\n",
       "      <td>1</td>\n",
       "      <td>0</td>\n",
       "      <td>0</td>\n",
       "      <td>0</td>\n",
       "      <td>1</td>\n",
       "      <td>0</td>\n",
       "      <td>1</td>\n",
       "    </tr>\n",
       "  </tbody>\n",
       "</table>\n",
       "</div>"
      ],
      "text/plain": [
       "   PRE7  PRE8  PRE9  PRE10  PRE11  PRE17  PRE19  PRE25  PRE30  PRE32  Risk1Yr\n",
       "0     0     0     0      1      1      0      0      0      1      0        0\n",
       "1     0     0     0      0      0      0      0      0      1      0        0\n",
       "2     0     0     0      1      0      0      0      0      1      0        0\n",
       "3     0     0     0      0      0      0      0      0      0      0        0\n",
       "4     0     1     0      1      1      0      0      0      1      0        1"
      ]
     },
     "execution_count": 8,
     "metadata": {},
     "output_type": "execute_result"
    }
   ],
   "source": [
    "# Checking\n",
    "df2[['PRE7', 'PRE8', 'PRE9', 'PRE10', 'PRE11', 'PRE17', 'PRE19', \n",
    "     'PRE25', 'PRE30', 'PRE32', 'Risk1Yr']].head()"
   ]
  },
  {
   "cell_type": "code",
   "execution_count": 9,
   "metadata": {},
   "outputs": [
    {
     "data": {
      "text/html": [
       "<div>\n",
       "<style scoped>\n",
       "    .dataframe tbody tr th:only-of-type {\n",
       "        vertical-align: middle;\n",
       "    }\n",
       "\n",
       "    .dataframe tbody tr th {\n",
       "        vertical-align: top;\n",
       "    }\n",
       "\n",
       "    .dataframe thead th {\n",
       "        text-align: right;\n",
       "    }\n",
       "</style>\n",
       "<table border=\"1\" class=\"dataframe\">\n",
       "  <thead>\n",
       "    <tr style=\"text-align: right;\">\n",
       "      <th></th>\n",
       "      <th>id</th>\n",
       "      <th>DGN</th>\n",
       "      <th>PRE4</th>\n",
       "      <th>PRE5</th>\n",
       "      <th>PRE6</th>\n",
       "      <th>PRE7</th>\n",
       "      <th>PRE8</th>\n",
       "      <th>PRE9</th>\n",
       "      <th>PRE10</th>\n",
       "      <th>PRE11</th>\n",
       "      <th>PRE14</th>\n",
       "      <th>PRE17</th>\n",
       "      <th>PRE19</th>\n",
       "      <th>PRE25</th>\n",
       "      <th>PRE30</th>\n",
       "      <th>PRE32</th>\n",
       "      <th>AGE</th>\n",
       "      <th>Risk1Yr</th>\n",
       "    </tr>\n",
       "  </thead>\n",
       "  <tbody>\n",
       "    <tr>\n",
       "      <th>0</th>\n",
       "      <td>1</td>\n",
       "      <td>DGN2</td>\n",
       "      <td>2.88</td>\n",
       "      <td>2.16</td>\n",
       "      <td>PRZ1</td>\n",
       "      <td>0</td>\n",
       "      <td>0</td>\n",
       "      <td>0</td>\n",
       "      <td>1</td>\n",
       "      <td>1</td>\n",
       "      <td>OC14</td>\n",
       "      <td>0</td>\n",
       "      <td>0</td>\n",
       "      <td>0</td>\n",
       "      <td>1</td>\n",
       "      <td>0</td>\n",
       "      <td>60</td>\n",
       "      <td>0</td>\n",
       "    </tr>\n",
       "    <tr>\n",
       "      <th>1</th>\n",
       "      <td>2</td>\n",
       "      <td>DGN3</td>\n",
       "      <td>3.40</td>\n",
       "      <td>1.88</td>\n",
       "      <td>PRZ0</td>\n",
       "      <td>0</td>\n",
       "      <td>0</td>\n",
       "      <td>0</td>\n",
       "      <td>0</td>\n",
       "      <td>0</td>\n",
       "      <td>OC12</td>\n",
       "      <td>0</td>\n",
       "      <td>0</td>\n",
       "      <td>0</td>\n",
       "      <td>1</td>\n",
       "      <td>0</td>\n",
       "      <td>51</td>\n",
       "      <td>0</td>\n",
       "    </tr>\n",
       "    <tr>\n",
       "      <th>2</th>\n",
       "      <td>3</td>\n",
       "      <td>DGN3</td>\n",
       "      <td>2.76</td>\n",
       "      <td>2.08</td>\n",
       "      <td>PRZ1</td>\n",
       "      <td>0</td>\n",
       "      <td>0</td>\n",
       "      <td>0</td>\n",
       "      <td>1</td>\n",
       "      <td>0</td>\n",
       "      <td>OC11</td>\n",
       "      <td>0</td>\n",
       "      <td>0</td>\n",
       "      <td>0</td>\n",
       "      <td>1</td>\n",
       "      <td>0</td>\n",
       "      <td>59</td>\n",
       "      <td>0</td>\n",
       "    </tr>\n",
       "    <tr>\n",
       "      <th>3</th>\n",
       "      <td>4</td>\n",
       "      <td>DGN3</td>\n",
       "      <td>3.68</td>\n",
       "      <td>3.04</td>\n",
       "      <td>PRZ0</td>\n",
       "      <td>0</td>\n",
       "      <td>0</td>\n",
       "      <td>0</td>\n",
       "      <td>0</td>\n",
       "      <td>0</td>\n",
       "      <td>OC11</td>\n",
       "      <td>0</td>\n",
       "      <td>0</td>\n",
       "      <td>0</td>\n",
       "      <td>0</td>\n",
       "      <td>0</td>\n",
       "      <td>54</td>\n",
       "      <td>0</td>\n",
       "    </tr>\n",
       "    <tr>\n",
       "      <th>4</th>\n",
       "      <td>5</td>\n",
       "      <td>DGN3</td>\n",
       "      <td>2.44</td>\n",
       "      <td>0.96</td>\n",
       "      <td>PRZ2</td>\n",
       "      <td>0</td>\n",
       "      <td>1</td>\n",
       "      <td>0</td>\n",
       "      <td>1</td>\n",
       "      <td>1</td>\n",
       "      <td>OC11</td>\n",
       "      <td>0</td>\n",
       "      <td>0</td>\n",
       "      <td>0</td>\n",
       "      <td>1</td>\n",
       "      <td>0</td>\n",
       "      <td>73</td>\n",
       "      <td>1</td>\n",
       "    </tr>\n",
       "  </tbody>\n",
       "</table>\n",
       "</div>"
      ],
      "text/plain": [
       "   id   DGN  PRE4  PRE5  PRE6  PRE7  PRE8  PRE9  PRE10  PRE11 PRE14  PRE17  \\\n",
       "0   1  DGN2  2.88  2.16  PRZ1     0     0     0      1      1  OC14      0   \n",
       "1   2  DGN3  3.40  1.88  PRZ0     0     0     0      0      0  OC12      0   \n",
       "2   3  DGN3  2.76  2.08  PRZ1     0     0     0      1      0  OC11      0   \n",
       "3   4  DGN3  3.68  3.04  PRZ0     0     0     0      0      0  OC11      0   \n",
       "4   5  DGN3  2.44  0.96  PRZ2     0     1     0      1      1  OC11      0   \n",
       "\n",
       "   PRE19  PRE25  PRE30  PRE32  AGE  Risk1Yr  \n",
       "0      0      0      1      0   60        0  \n",
       "1      0      0      1      0   51        0  \n",
       "2      0      0      1      0   59        0  \n",
       "3      0      0      0      0   54        0  \n",
       "4      0      0      1      0   73        1  "
      ]
     },
     "execution_count": 9,
     "metadata": {},
     "output_type": "execute_result"
    }
   ],
   "source": [
    "df2.head()"
   ]
  },
  {
   "cell_type": "code",
   "execution_count": 64,
   "metadata": {},
   "outputs": [
    {
     "data": {
      "text/plain": [
       "<matplotlib.legend.Legend at 0x93816c6888>"
      ]
     },
     "execution_count": 64,
     "metadata": {},
     "output_type": "execute_result"
    },
    {
     "data": {
      "image/png": "[encoded data removed]",
      "text/plain": [
       "<Figure size 1152x720 with 1 Axes>"
      ]
     },
     "metadata": {},
     "output_type": "display_data"
    }
   ],
   "source": [
    "# this plot shows how many patients survived 1 year and how many did not after surgery\n",
    "sns.set_style(style=\"whitegrid\")\n",
    "fig, ax = plt.subplots(figsize=(16,10))\n",
    "\n",
    "\n",
    "sns.countplot(x=\"Risk1Yr\", data=df2, hue = 'Risk1Yr', palette = 'rocket_r')\n",
    "\n",
    "ax.set_title('Bar chart of Risk')\n",
    "legend_labels, _= ax.get_legend_handles_labels()\n",
    "ax.legend(legend_labels, ['Survive 1st year', 'Not survive 1st year'], bbox_to_anchor=(1,1))\n"
   ]
  },
  {
   "cell_type": "markdown",
   "metadata": {},
   "source": [
    "<p>The data size is small and the data is not well balanced.</p><br>\n",
    "<p>Anyway, we will check what can be deduced from them.</p>"
   ]
  },
  {
   "cell_type": "markdown",
   "metadata": {},
   "source": [
    "<p>DGN: Diagnosis - specific combination of ICD-10 codes for primary and secondary as well multiple tumours if any (DGN3,DGN2,DGN4,DGN6,DGN5,DGN8,DGN1)</p><br>\n",
    "\n",
    "<p>We check which DGN code has the greatest impact on the patients</p> "
   ]
  },
  {
   "cell_type": "code",
   "execution_count": 66,
   "metadata": {},
   "outputs": [
    {
     "data": {
      "text/plain": [
       "DGN3    341\n",
       "DGN2     49\n",
       "DGN4     45\n",
       "DGN5     13\n",
       "DGN6      4\n",
       "DGN8      2\n",
       "DGN1      1\n",
       "Name: DGN, dtype: int64"
      ]
     },
     "execution_count": 66,
     "metadata": {},
     "output_type": "execute_result"
    }
   ],
   "source": [
    "df2['DGN'].value_counts()"
   ]
  },
  {
   "cell_type": "code",
   "execution_count": 67,
   "metadata": {},
   "outputs": [
    {
     "data": {
      "text/plain": [
       "<matplotlib.axes._subplots.AxesSubplot at 0x938177abc8>"
      ]
     },
     "execution_count": 67,
     "metadata": {},
     "output_type": "execute_result"
    },
    {
     "data": {
      "image/png": "[encoded data removed]",
      "text/plain": [
       "<Figure size 1152x720 with 1 Axes>"
      ]
     },
     "metadata": {},
     "output_type": "display_data"
    }
   ],
   "source": [
    "# this plot shows count of a given DGN in all patients\n",
    "sns.set_style(style=\"whitegrid\")\n",
    "fig, ax = plt.subplots(figsize=(16,10))\n",
    "ax.set_title(\"Type of DGN in all patients\")\n",
    "\n",
    "sns.set(font_scale=2)\n",
    "sns.countplot(x='DGN', data=df2)"
   ]
  },
  {
   "cell_type": "markdown",
   "metadata": {},
   "source": [
    "<p>DGN3 is the most common code that was present in all patients.</p>"
   ]
  },
  {
   "cell_type": "code",
   "execution_count": 13,
   "metadata": {},
   "outputs": [
    {
     "data": {
      "text/plain": [
       "<matplotlib.axes._subplots.AxesSubplot at 0x9380a0c388>"
      ]
     },
     "execution_count": 13,
     "metadata": {},
     "output_type": "execute_result"
    },
    {
     "data": {
      "image/png": "[encoded data removed]",
      "text/plain": [
       "<Figure size 1152x720 with 1 Axes>"
      ]
     },
     "metadata": {},
     "output_type": "display_data"
    }
   ],
   "source": [
    "# this plot shows count of a given DGN in patients who didnt survive 1st year\n",
    "sns.set_style(style=\"whitegrid\")\n",
    "fig, ax = plt.subplots(figsize=(16,10))\n",
    "sns.set(font_scale=2)\n",
    "ax.set_title(\"Type of DGN in patients who didn't survive first year after surgery\")\n",
    "sns.countplot(x='DGN', data= df2[df2['Risk1Yr'] == 1])"
   ]
  },
  {
   "cell_type": "markdown",
   "metadata": {},
   "source": [
    "<p>DGN3 was the most common code that was present in all patients.</p>\n",
    "\n",
    "<p>The trend is similar in patients who did not survive 1 year after surgery.</p>"
   ]
  },
  {
   "cell_type": "markdown",
   "metadata": {},
   "source": [
    "<p>Ok, as you know smoking is bad for your health. Let's see if it had an effect on patients.</p>"
   ]
  },
  {
   "cell_type": "code",
   "execution_count": 75,
   "metadata": {},
   "outputs": [
    {
     "data": {
      "text/plain": [
       "[Text(0.5, 0, '(Risk1Yr, Smoker)')]"
      ]
     },
     "execution_count": 75,
     "metadata": {},
     "output_type": "execute_result"
    },
    {
     "data": {
      "image/png": "[encoded data removed]",
      "text/plain": [
       "<Figure size 1080x504 with 1 Axes>"
      ]
     },
     "metadata": {},
     "output_type": "display_data"
    }
   ],
   "source": [
    "# This shows how many patients survived 1 year being a smoker (0,1)\n",
    "# This shows how many patients survived 1 year without being a smoker (0,0)\n",
    "# This shows how many patients did not survive 1 year being a smoker (1,1)\n",
    "# This shows how many patients did not survive 1 year without being a smoker (1,0)\n",
    "\n",
    "fig, ax = plt.subplots(figsize=(15,7))\n",
    "\n",
    "# group patients by 'Risk1Yr', \n",
    "# taking into account the number of patients who was smokers (1) and was not smokers (0)\n",
    "df2.groupby('Risk1Yr')['PRE30'].value_counts().plot(ax=ax, \n",
    "                                                    kind='bar', title = 'Bar chart of Risk by Smoking',\n",
    "                                                   colormap = 'coolwarm')\n",
    "ax.set(xlabel = \"(Risk1Yr, Smoker)\")"
   ]
  },
  {
   "cell_type": "markdown",
   "metadata": {},
   "source": [
    "<p>Focusing on patients who did not survive 1 year after surgery, you can see that 90% of them were smokers.</p>"
   ]
  },
  {
   "cell_type": "markdown",
   "metadata": {},
   "source": [
    "<p>Now let's look at the FVC (PRE4) parameter.</p><br>\n",
    "<p>Forced vital capacity is the total amount of air that can be exhaled following a deep inhalation in an FVC test. Thenormal FVC range for an adult is between 3liters and 5liters.</p>"
   ]
  },
  {
   "cell_type": "code",
   "execution_count": 15,
   "metadata": {},
   "outputs": [
    {
     "data": {
      "image/png": "[encoded data removed]",
      "text/plain": [
       "<Figure size 720x432 with 1 Axes>"
      ]
     },
     "metadata": {},
     "output_type": "display_data"
    }
   ],
   "source": [
    "plt.figure(figsize=(10,6))\n",
    "plt.hist(x=df2['PRE4'], bins = 10)\n",
    "\n",
    "plt.xlabel('Exhaled Total Amount Of Air')\n",
    "plt.ylabel('Number of patients')\n",
    "plt.title('Histogram of Forced Vital Capacity')\n",
    "\n",
    "plt.show()"
   ]
  },
  {
   "cell_type": "code",
   "execution_count": 16,
   "metadata": {},
   "outputs": [
    {
     "data": {
      "text/plain": [
       "3.2816382978723415"
      ]
     },
     "execution_count": 16,
     "metadata": {},
     "output_type": "execute_result"
    }
   ],
   "source": [
    "# mean FVC\n",
    "df2['PRE4'].mean()"
   ]
  },
  {
   "cell_type": "code",
   "execution_count": 17,
   "metadata": {},
   "outputs": [
    {
     "data": {
      "text/plain": [
       "21"
      ]
     },
     "execution_count": 17,
     "metadata": {},
     "output_type": "execute_result"
    }
   ],
   "source": [
    "# Checking the age of the youngest patient\n",
    "# He was adult\n",
    "df2['AGE'].min()"
   ]
  },
  {
   "cell_type": "code",
   "execution_count": 18,
   "metadata": {},
   "outputs": [
    {
     "data": {
      "text/plain": [
       "62.53404255319149"
      ]
     },
     "execution_count": 18,
     "metadata": {},
     "output_type": "execute_result"
    }
   ],
   "source": [
    "# mean AGE\n",
    "df2['AGE'].mean()"
   ]
  },
  {
   "cell_type": "markdown",
   "metadata": {},
   "source": [
    "<p>The highest value of the FVC parameter oscillates between 2.5 - 4.\n",
    "\n",
    "The patients mean FVC is 3.2, the lower end of the optimal range.</p>"
   ]
  },
  {
   "cell_type": "markdown",
   "metadata": {},
   "source": [
    "<p>Next step</p><br>\n",
    "<p>Checking FVC vs FEV1</p><br>\n",
    "\n",
    "<p>The FEV1/FVC ratio is a measurement of the amount of air you can forcefully exhale from your lungs.</p>\n",
    "<p>Decreased FVC With Proportional FEV1/FVC Ratio. <br> If your FVC is decreased but the ratio of FEV1/FVC is normal, this indicates a restrictive pattern. A normal ratio is 70% to 80% in adults, and 85% in children.</p>\n",
    "\n",
    "<p><a href=\"https://www.verywellhealth.com/fev1fvc-ratio-of-fev1-to-fvc-spirometry-914783\">SOURCE</a></p>"
   ]
  },
  {
   "cell_type": "code",
   "execution_count": 19,
   "metadata": {},
   "outputs": [
    {
     "data": {
      "image/png": "[encoded data removed]",
      "text/plain": [
       "<Figure size 504x504 with 3 Axes>"
      ]
     },
     "metadata": {},
     "output_type": "display_data"
    }
   ],
   "source": [
    "# Checking jointplot FVC vs FEV1 in all patietns\n",
    "sns.set_style(style=\"whitegrid\")\n",
    "\n",
    "g = sns.jointplot(x='PRE4',y='PRE5',data=df2, kind='scatter', height = 7)\n",
    "g.set_axis_labels('FVC', 'FEV1', fontsize=22)\n",
    "g.fig.suptitle(\"Plot of FVC vs FEV1\")\n",
    "g.fig.tight_layout()"
   ]
  },
  {
   "cell_type": "code",
   "execution_count": 20,
   "metadata": {},
   "outputs": [
    {
     "name": "stderr",
     "output_type": "stream",
     "text": [
      "C:\\Users\\Dawid\\anaconda3\\lib\\site-packages\\seaborn\\axisgrid.py:316: UserWarning: The `size` parameter has been renamed to `height`; please update your code.\n",
      "  warnings.warn(msg, UserWarning)\n"
     ]
    },
    {
     "data": {
      "text/plain": [
       "Text(0.5, 0.98, 'Plot of FVC vs FEV1')"
      ]
     },
     "execution_count": 20,
     "metadata": {},
     "output_type": "execute_result"
    },
    {
     "data": {
      "image/png": "[encoded data removed]",
      "text/plain": [
       "<Figure size 720x360 with 2 Axes>"
      ]
     },
     "metadata": {},
     "output_type": "display_data"
    }
   ],
   "source": [
    "# Checking jointplot FVC vs FEV1 by Risk1Yr\n",
    "sns.set_style(style=\"whitegrid\")\n",
    "\n",
    "g = sns.FacetGrid(col='Risk1Yr',data=df2, size = 5)\n",
    "g.map(plt.scatter, 'PRE4', 'PRE5')\n",
    "g.set_axis_labels('FVC', 'FEV1', fontsize=22)\n",
    "g.fig.suptitle(\"Plot of FVC vs FEV1\", fontsize=22)"
   ]
  },
  {
   "cell_type": "code",
   "execution_count": 21,
   "metadata": {},
   "outputs": [],
   "source": [
    "# I add a new feature called 'RATIO' to the data frame. RATIO = FEV1 / FVC\n",
    "df2['RATIO'] = df2['PRE5'] / df2['PRE4']"
   ]
  },
  {
   "cell_type": "markdown",
   "metadata": {},
   "source": [
    "<p>In my opinion, the above charts showed that we have some anomalies in the data. (specifically 15 indexes)\n",
    "\n",
    "Citing that data <a href=\"https://www.ncbi.nlm.nih.gov/pmc/articles/PMC5849379/\">source</a>. Ratio should not be greater than ~ 120%, and value of FEV1 (PRE5) should be ~ between 0.6 - 4.7 [ml]</p>"
   ]
  },
  {
   "cell_type": "code",
   "execution_count": 22,
   "metadata": {},
   "outputs": [
    {
     "data": {
      "text/html": [
       "<div>\n",
       "<style scoped>\n",
       "    .dataframe tbody tr th:only-of-type {\n",
       "        vertical-align: middle;\n",
       "    }\n",
       "\n",
       "    .dataframe tbody tr th {\n",
       "        vertical-align: top;\n",
       "    }\n",
       "\n",
       "    .dataframe thead th {\n",
       "        text-align: right;\n",
       "    }\n",
       "</style>\n",
       "<table border=\"1\" class=\"dataframe\">\n",
       "  <thead>\n",
       "    <tr style=\"text-align: right;\">\n",
       "      <th></th>\n",
       "      <th>id</th>\n",
       "      <th>DGN</th>\n",
       "      <th>PRE4</th>\n",
       "      <th>PRE5</th>\n",
       "      <th>PRE6</th>\n",
       "      <th>PRE7</th>\n",
       "      <th>PRE8</th>\n",
       "      <th>PRE9</th>\n",
       "      <th>PRE10</th>\n",
       "      <th>PRE11</th>\n",
       "      <th>PRE14</th>\n",
       "      <th>PRE17</th>\n",
       "      <th>PRE19</th>\n",
       "      <th>PRE25</th>\n",
       "      <th>PRE30</th>\n",
       "      <th>PRE32</th>\n",
       "      <th>AGE</th>\n",
       "      <th>Risk1Yr</th>\n",
       "      <th>RATIO</th>\n",
       "    </tr>\n",
       "  </thead>\n",
       "  <tbody>\n",
       "    <tr>\n",
       "      <th>25</th>\n",
       "      <td>26</td>\n",
       "      <td>DGN5</td>\n",
       "      <td>4.56</td>\n",
       "      <td>72.80</td>\n",
       "      <td>PRZ0</td>\n",
       "      <td>1</td>\n",
       "      <td>1</td>\n",
       "      <td>0</td>\n",
       "      <td>1</td>\n",
       "      <td>0</td>\n",
       "      <td>OC12</td>\n",
       "      <td>0</td>\n",
       "      <td>0</td>\n",
       "      <td>0</td>\n",
       "      <td>1</td>\n",
       "      <td>0</td>\n",
       "      <td>57</td>\n",
       "      <td>0</td>\n",
       "      <td>15.964912</td>\n",
       "    </tr>\n",
       "    <tr>\n",
       "      <th>89</th>\n",
       "      <td>90</td>\n",
       "      <td>DGN3</td>\n",
       "      <td>2.83</td>\n",
       "      <td>66.40</td>\n",
       "      <td>PRZ1</td>\n",
       "      <td>1</td>\n",
       "      <td>1</td>\n",
       "      <td>1</td>\n",
       "      <td>1</td>\n",
       "      <td>0</td>\n",
       "      <td>OC12</td>\n",
       "      <td>0</td>\n",
       "      <td>0</td>\n",
       "      <td>0</td>\n",
       "      <td>1</td>\n",
       "      <td>0</td>\n",
       "      <td>75</td>\n",
       "      <td>0</td>\n",
       "      <td>23.462898</td>\n",
       "    </tr>\n",
       "    <tr>\n",
       "      <th>98</th>\n",
       "      <td>99</td>\n",
       "      <td>DGN3</td>\n",
       "      <td>2.63</td>\n",
       "      <td>67.30</td>\n",
       "      <td>PRZ1</td>\n",
       "      <td>0</td>\n",
       "      <td>0</td>\n",
       "      <td>1</td>\n",
       "      <td>1</td>\n",
       "      <td>0</td>\n",
       "      <td>OC11</td>\n",
       "      <td>0</td>\n",
       "      <td>0</td>\n",
       "      <td>0</td>\n",
       "      <td>1</td>\n",
       "      <td>0</td>\n",
       "      <td>54</td>\n",
       "      <td>0</td>\n",
       "      <td>25.589354</td>\n",
       "    </tr>\n",
       "    <tr>\n",
       "      <th>112</th>\n",
       "      <td>113</td>\n",
       "      <td>DGN3</td>\n",
       "      <td>3.68</td>\n",
       "      <td>64.10</td>\n",
       "      <td>PRZ0</td>\n",
       "      <td>0</td>\n",
       "      <td>0</td>\n",
       "      <td>0</td>\n",
       "      <td>0</td>\n",
       "      <td>0</td>\n",
       "      <td>OC12</td>\n",
       "      <td>0</td>\n",
       "      <td>0</td>\n",
       "      <td>0</td>\n",
       "      <td>1</td>\n",
       "      <td>0</td>\n",
       "      <td>60</td>\n",
       "      <td>0</td>\n",
       "      <td>17.418478</td>\n",
       "    </tr>\n",
       "    <tr>\n",
       "      <th>132</th>\n",
       "      <td>133</td>\n",
       "      <td>DGN2</td>\n",
       "      <td>2.50</td>\n",
       "      <td>71.10</td>\n",
       "      <td>PRZ0</td>\n",
       "      <td>0</td>\n",
       "      <td>0</td>\n",
       "      <td>1</td>\n",
       "      <td>0</td>\n",
       "      <td>0</td>\n",
       "      <td>OC13</td>\n",
       "      <td>0</td>\n",
       "      <td>0</td>\n",
       "      <td>0</td>\n",
       "      <td>1</td>\n",
       "      <td>0</td>\n",
       "      <td>64</td>\n",
       "      <td>1</td>\n",
       "      <td>28.440000</td>\n",
       "    </tr>\n",
       "    <tr>\n",
       "      <th>215</th>\n",
       "      <td>216</td>\n",
       "      <td>DGN2</td>\n",
       "      <td>2.66</td>\n",
       "      <td>8.56</td>\n",
       "      <td>PRZ1</td>\n",
       "      <td>0</td>\n",
       "      <td>1</td>\n",
       "      <td>0</td>\n",
       "      <td>1</td>\n",
       "      <td>0</td>\n",
       "      <td>OC12</td>\n",
       "      <td>0</td>\n",
       "      <td>0</td>\n",
       "      <td>0</td>\n",
       "      <td>1</td>\n",
       "      <td>0</td>\n",
       "      <td>61</td>\n",
       "      <td>0</td>\n",
       "      <td>3.218045</td>\n",
       "    </tr>\n",
       "    <tr>\n",
       "      <th>255</th>\n",
       "      <td>256</td>\n",
       "      <td>DGN3</td>\n",
       "      <td>3.72</td>\n",
       "      <td>78.30</td>\n",
       "      <td>PRZ0</td>\n",
       "      <td>1</td>\n",
       "      <td>0</td>\n",
       "      <td>0</td>\n",
       "      <td>1</td>\n",
       "      <td>0</td>\n",
       "      <td>OC12</td>\n",
       "      <td>0</td>\n",
       "      <td>0</td>\n",
       "      <td>0</td>\n",
       "      <td>1</td>\n",
       "      <td>0</td>\n",
       "      <td>44</td>\n",
       "      <td>0</td>\n",
       "      <td>21.048387</td>\n",
       "    </tr>\n",
       "    <tr>\n",
       "      <th>319</th>\n",
       "      <td>320</td>\n",
       "      <td>DGN3</td>\n",
       "      <td>2.10</td>\n",
       "      <td>69.10</td>\n",
       "      <td>PRZ0</td>\n",
       "      <td>0</td>\n",
       "      <td>0</td>\n",
       "      <td>0</td>\n",
       "      <td>0</td>\n",
       "      <td>0</td>\n",
       "      <td>OC11</td>\n",
       "      <td>0</td>\n",
       "      <td>0</td>\n",
       "      <td>0</td>\n",
       "      <td>1</td>\n",
       "      <td>0</td>\n",
       "      <td>62</td>\n",
       "      <td>0</td>\n",
       "      <td>32.904762</td>\n",
       "    </tr>\n",
       "    <tr>\n",
       "      <th>325</th>\n",
       "      <td>326</td>\n",
       "      <td>DGN4</td>\n",
       "      <td>5.03</td>\n",
       "      <td>79.30</td>\n",
       "      <td>PRZ1</td>\n",
       "      <td>0</td>\n",
       "      <td>0</td>\n",
       "      <td>1</td>\n",
       "      <td>0</td>\n",
       "      <td>0</td>\n",
       "      <td>OC11</td>\n",
       "      <td>0</td>\n",
       "      <td>0</td>\n",
       "      <td>0</td>\n",
       "      <td>0</td>\n",
       "      <td>0</td>\n",
       "      <td>38</td>\n",
       "      <td>0</td>\n",
       "      <td>15.765408</td>\n",
       "    </tr>\n",
       "    <tr>\n",
       "      <th>330</th>\n",
       "      <td>331</td>\n",
       "      <td>DGN2</td>\n",
       "      <td>2.94</td>\n",
       "      <td>76.00</td>\n",
       "      <td>PRZ1</td>\n",
       "      <td>0</td>\n",
       "      <td>1</td>\n",
       "      <td>1</td>\n",
       "      <td>1</td>\n",
       "      <td>0</td>\n",
       "      <td>OC12</td>\n",
       "      <td>0</td>\n",
       "      <td>0</td>\n",
       "      <td>0</td>\n",
       "      <td>0</td>\n",
       "      <td>0</td>\n",
       "      <td>61</td>\n",
       "      <td>0</td>\n",
       "      <td>25.850340</td>\n",
       "    </tr>\n",
       "    <tr>\n",
       "      <th>349</th>\n",
       "      <td>350</td>\n",
       "      <td>DGN4</td>\n",
       "      <td>1.82</td>\n",
       "      <td>86.30</td>\n",
       "      <td>PRZ0</td>\n",
       "      <td>0</td>\n",
       "      <td>0</td>\n",
       "      <td>0</td>\n",
       "      <td>0</td>\n",
       "      <td>0</td>\n",
       "      <td>OC12</td>\n",
       "      <td>0</td>\n",
       "      <td>0</td>\n",
       "      <td>0</td>\n",
       "      <td>0</td>\n",
       "      <td>0</td>\n",
       "      <td>67</td>\n",
       "      <td>0</td>\n",
       "      <td>47.417582</td>\n",
       "    </tr>\n",
       "    <tr>\n",
       "      <th>352</th>\n",
       "      <td>353</td>\n",
       "      <td>DGN3</td>\n",
       "      <td>2.94</td>\n",
       "      <td>73.30</td>\n",
       "      <td>PRZ1</td>\n",
       "      <td>0</td>\n",
       "      <td>1</td>\n",
       "      <td>1</td>\n",
       "      <td>0</td>\n",
       "      <td>0</td>\n",
       "      <td>OC12</td>\n",
       "      <td>0</td>\n",
       "      <td>0</td>\n",
       "      <td>0</td>\n",
       "      <td>0</td>\n",
       "      <td>0</td>\n",
       "      <td>60</td>\n",
       "      <td>0</td>\n",
       "      <td>24.931973</td>\n",
       "    </tr>\n",
       "    <tr>\n",
       "      <th>353</th>\n",
       "      <td>354</td>\n",
       "      <td>DGN3</td>\n",
       "      <td>3.24</td>\n",
       "      <td>52.30</td>\n",
       "      <td>PRZ0</td>\n",
       "      <td>0</td>\n",
       "      <td>0</td>\n",
       "      <td>0</td>\n",
       "      <td>0</td>\n",
       "      <td>0</td>\n",
       "      <td>OC12</td>\n",
       "      <td>1</td>\n",
       "      <td>0</td>\n",
       "      <td>0</td>\n",
       "      <td>1</td>\n",
       "      <td>0</td>\n",
       "      <td>55</td>\n",
       "      <td>0</td>\n",
       "      <td>16.141975</td>\n",
       "    </tr>\n",
       "    <tr>\n",
       "      <th>438</th>\n",
       "      <td>439</td>\n",
       "      <td>DGN5</td>\n",
       "      <td>3.67</td>\n",
       "      <td>76.80</td>\n",
       "      <td>PRZ0</td>\n",
       "      <td>1</td>\n",
       "      <td>1</td>\n",
       "      <td>0</td>\n",
       "      <td>1</td>\n",
       "      <td>0</td>\n",
       "      <td>OC12</td>\n",
       "      <td>0</td>\n",
       "      <td>0</td>\n",
       "      <td>0</td>\n",
       "      <td>0</td>\n",
       "      <td>0</td>\n",
       "      <td>61</td>\n",
       "      <td>0</td>\n",
       "      <td>20.926431</td>\n",
       "    </tr>\n",
       "    <tr>\n",
       "      <th>444</th>\n",
       "      <td>445</td>\n",
       "      <td>DGN3</td>\n",
       "      <td>2.56</td>\n",
       "      <td>60.90</td>\n",
       "      <td>PRZ0</td>\n",
       "      <td>0</td>\n",
       "      <td>0</td>\n",
       "      <td>0</td>\n",
       "      <td>0</td>\n",
       "      <td>0</td>\n",
       "      <td>OC11</td>\n",
       "      <td>0</td>\n",
       "      <td>0</td>\n",
       "      <td>0</td>\n",
       "      <td>1</td>\n",
       "      <td>0</td>\n",
       "      <td>50</td>\n",
       "      <td>0</td>\n",
       "      <td>23.789062</td>\n",
       "    </tr>\n",
       "  </tbody>\n",
       "</table>\n",
       "</div>"
      ],
      "text/plain": [
       "      id   DGN  PRE4   PRE5  PRE6  PRE7  PRE8  PRE9  PRE10  PRE11 PRE14  \\\n",
       "25    26  DGN5  4.56  72.80  PRZ0     1     1     0      1      0  OC12   \n",
       "89    90  DGN3  2.83  66.40  PRZ1     1     1     1      1      0  OC12   \n",
       "98    99  DGN3  2.63  67.30  PRZ1     0     0     1      1      0  OC11   \n",
       "112  113  DGN3  3.68  64.10  PRZ0     0     0     0      0      0  OC12   \n",
       "132  133  DGN2  2.50  71.10  PRZ0     0     0     1      0      0  OC13   \n",
       "215  216  DGN2  2.66   8.56  PRZ1     0     1     0      1      0  OC12   \n",
       "255  256  DGN3  3.72  78.30  PRZ0     1     0     0      1      0  OC12   \n",
       "319  320  DGN3  2.10  69.10  PRZ0     0     0     0      0      0  OC11   \n",
       "325  326  DGN4  5.03  79.30  PRZ1     0     0     1      0      0  OC11   \n",
       "330  331  DGN2  2.94  76.00  PRZ1     0     1     1      1      0  OC12   \n",
       "349  350  DGN4  1.82  86.30  PRZ0     0     0     0      0      0  OC12   \n",
       "352  353  DGN3  2.94  73.30  PRZ1     0     1     1      0      0  OC12   \n",
       "353  354  DGN3  3.24  52.30  PRZ0     0     0     0      0      0  OC12   \n",
       "438  439  DGN5  3.67  76.80  PRZ0     1     1     0      1      0  OC12   \n",
       "444  445  DGN3  2.56  60.90  PRZ0     0     0     0      0      0  OC11   \n",
       "\n",
       "     PRE17  PRE19  PRE25  PRE30  PRE32  AGE  Risk1Yr      RATIO  \n",
       "25       0      0      0      1      0   57        0  15.964912  \n",
       "89       0      0      0      1      0   75        0  23.462898  \n",
       "98       0      0      0      1      0   54        0  25.589354  \n",
       "112      0      0      0      1      0   60        0  17.418478  \n",
       "132      0      0      0      1      0   64        1  28.440000  \n",
       "215      0      0      0      1      0   61        0   3.218045  \n",
       "255      0      0      0      1      0   44        0  21.048387  \n",
       "319      0      0      0      1      0   62        0  32.904762  \n",
       "325      0      0      0      0      0   38        0  15.765408  \n",
       "330      0      0      0      0      0   61        0  25.850340  \n",
       "349      0      0      0      0      0   67        0  47.417582  \n",
       "352      0      0      0      0      0   60        0  24.931973  \n",
       "353      1      0      0      1      0   55        0  16.141975  \n",
       "438      0      0      0      0      0   61        0  20.926431  \n",
       "444      0      0      0      1      0   50        0  23.789062  "
      ]
     },
     "execution_count": 22,
     "metadata": {},
     "output_type": "execute_result"
    }
   ],
   "source": [
    "# looking for that 15 indexes\n",
    "df2[df2['RATIO'] > 1.3]"
   ]
  },
  {
   "cell_type": "code",
   "execution_count": 23,
   "metadata": {},
   "outputs": [],
   "source": [
    "# List of indexes I want to remove\n",
    "my_l = list(df2[df2['RATIO'] > 1.3].index.values)"
   ]
  },
  {
   "cell_type": "code",
   "execution_count": 24,
   "metadata": {},
   "outputs": [
    {
     "data": {
      "text/plain": [
       "15"
      ]
     },
     "execution_count": 24,
     "metadata": {},
     "output_type": "execute_result"
    }
   ],
   "source": [
    "len(list(df2[df2['RATIO'] > 1.3].index.values))"
   ]
  },
  {
   "cell_type": "code",
   "execution_count": 25,
   "metadata": {},
   "outputs": [
    {
     "data": {
      "text/plain": [
       "470"
      ]
     },
     "execution_count": 25,
     "metadata": {},
     "output_type": "execute_result"
    }
   ],
   "source": [
    "len(df2)"
   ]
  },
  {
   "cell_type": "code",
   "execution_count": 26,
   "metadata": {},
   "outputs": [],
   "source": [
    "df2 = df2.drop(my_l, axis=0)"
   ]
  },
  {
   "cell_type": "code",
   "execution_count": 27,
   "metadata": {},
   "outputs": [
    {
     "data": {
      "text/plain": [
       "455"
      ]
     },
     "execution_count": 27,
     "metadata": {},
     "output_type": "execute_result"
    }
   ],
   "source": [
    "len(df2)"
   ]
  },
  {
   "cell_type": "code",
   "execution_count": 28,
   "metadata": {},
   "outputs": [
    {
     "data": {
      "text/html": [
       "<div>\n",
       "<style scoped>\n",
       "    .dataframe tbody tr th:only-of-type {\n",
       "        vertical-align: middle;\n",
       "    }\n",
       "\n",
       "    .dataframe tbody tr th {\n",
       "        vertical-align: top;\n",
       "    }\n",
       "\n",
       "    .dataframe thead th {\n",
       "        text-align: right;\n",
       "    }\n",
       "</style>\n",
       "<table border=\"1\" class=\"dataframe\">\n",
       "  <thead>\n",
       "    <tr style=\"text-align: right;\">\n",
       "      <th></th>\n",
       "      <th>id</th>\n",
       "      <th>DGN</th>\n",
       "      <th>PRE4</th>\n",
       "      <th>PRE5</th>\n",
       "      <th>PRE6</th>\n",
       "      <th>PRE7</th>\n",
       "      <th>PRE8</th>\n",
       "      <th>PRE9</th>\n",
       "      <th>PRE10</th>\n",
       "      <th>PRE11</th>\n",
       "      <th>PRE14</th>\n",
       "      <th>PRE17</th>\n",
       "      <th>PRE19</th>\n",
       "      <th>PRE25</th>\n",
       "      <th>PRE30</th>\n",
       "      <th>PRE32</th>\n",
       "      <th>AGE</th>\n",
       "      <th>Risk1Yr</th>\n",
       "      <th>RATIO</th>\n",
       "    </tr>\n",
       "  </thead>\n",
       "  <tbody>\n",
       "  </tbody>\n",
       "</table>\n",
       "</div>"
      ],
      "text/plain": [
       "Empty DataFrame\n",
       "Columns: [id, DGN, PRE4, PRE5, PRE6, PRE7, PRE8, PRE9, PRE10, PRE11, PRE14, PRE17, PRE19, PRE25, PRE30, PRE32, AGE, Risk1Yr, RATIO]\n",
       "Index: []"
      ]
     },
     "execution_count": 28,
     "metadata": {},
     "output_type": "execute_result"
    }
   ],
   "source": [
    "# Checking after drop\n",
    "df2[df2['RATIO'] > 1.3]"
   ]
  },
  {
   "cell_type": "markdown",
   "metadata": {},
   "source": [
    "<p>Now I retry the chart again</p>"
   ]
  },
  {
   "cell_type": "code",
   "execution_count": 29,
   "metadata": {},
   "outputs": [
    {
     "name": "stderr",
     "output_type": "stream",
     "text": [
      "C:\\Users\\Dawid\\anaconda3\\lib\\site-packages\\seaborn\\axisgrid.py:316: UserWarning: The `size` parameter has been renamed to `height`; please update your code.\n",
      "  warnings.warn(msg, UserWarning)\n"
     ]
    },
    {
     "data": {
      "text/plain": [
       "Text(0.5, 0.98, 'Plot of FVC vs FEV1')"
      ]
     },
     "execution_count": 29,
     "metadata": {},
     "output_type": "execute_result"
    },
    {
     "data": {
      "image/png": "[encoded data removed]",
      "text/plain": [
       "<Figure size 720x360 with 2 Axes>"
      ]
     },
     "metadata": {},
     "output_type": "display_data"
    }
   ],
   "source": [
    "# Checking jointplot FVC vs FEV1 by Risk1Yr\n",
    "# after dropped 15 indexes\n",
    "sns.set_style(style=\"whitegrid\")\n",
    "\n",
    "g = sns.FacetGrid(col='Risk1Yr',data=df2, size = 5)\n",
    "g.map(plt.scatter, 'PRE4', 'PRE5')\n",
    "g.set_axis_labels('FVC', 'FEV1', fontsize=22)\n",
    "g.fig.suptitle(\"Plot of FVC vs FEV1\", fontsize=22)"
   ]
  },
  {
   "cell_type": "markdown",
   "metadata": {},
   "source": [
    "<p>Ok now we can check mean ratio.</p>\n",
    "<p>If your FVC is decreased but the ratio of FEV1/FVC is normal, this indicates a restrictive pattern.</p>\n",
    "<p>A normal ratio is 70% to 80% in adults, and 85% in children.</p>\n",
    "<p> <a target=\"_blank\" href=\"https://www.verywellhealth.com/fev1fvc-ratio-of-fev1-to-fvc-spirometry-914783\">More HERE</a></p>"
   ]
  },
  {
   "cell_type": "code",
   "execution_count": 68,
   "metadata": {},
   "outputs": [
    {
     "data": {
      "text/plain": [
       "([<matplotlib.axis.YTick at 0x9382365748>,\n",
       "  <matplotlib.axis.YTick at 0x93823e3208>,\n",
       "  <matplotlib.axis.YTick at 0x93824032c8>,\n",
       "  <matplotlib.axis.YTick at 0x93816ecec8>,\n",
       "  <matplotlib.axis.YTick at 0x93823b8f88>,\n",
       "  <matplotlib.axis.YTick at 0x93816cce88>,\n",
       "  <matplotlib.axis.YTick at 0x93816cc4c8>,\n",
       "  <matplotlib.axis.YTick at 0x938170ebc8>,\n",
       "  <matplotlib.axis.YTick at 0x93820e6948>],\n",
       " <a list of 9 Text yticklabel objects>)"
      ]
     },
     "execution_count": 68,
     "metadata": {},
     "output_type": "execute_result"
    },
    {
     "data": {
      "image/png": "[encoded data removed]",
      "text/plain": [
       "<Figure size 720x432 with 1 Axes>"
      ]
     },
     "metadata": {},
     "output_type": "display_data"
    }
   ],
   "source": [
    "# FEV1 / FVC by Risk1Yr\n",
    "plt.figure(figsize=(10,6))\n",
    "sns.set_style(\"whitegrid\")\n",
    "sns.boxplot(x= 'Risk1Yr', y='RATIO',data=df2,palette='rainbow').set_title(\"FEV1/FVC Ratio by Risk1Yr\")\n",
    "\n",
    "plt.yticks(np.arange(0.4, 1.3, 0.1))"
   ]
  },
  {
   "cell_type": "markdown",
   "metadata": {},
   "source": [
    "<p>Patients who did not survive 1 year after surgery had a lower mean ratio than those who survived, but they were still within the normal 70% - 80%.</p>"
   ]
  },
  {
   "cell_type": "code",
   "execution_count": 73,
   "metadata": {},
   "outputs": [
    {
     "data": {
      "text/plain": [
       "([<matplotlib.axis.YTick at 0x9383517f08>,\n",
       "  <matplotlib.axis.YTick at 0x9383517648>,\n",
       "  <matplotlib.axis.YTick at 0x938351ba08>,\n",
       "  <matplotlib.axis.YTick at 0x938353a048>,\n",
       "  <matplotlib.axis.YTick at 0x938355b888>,\n",
       "  <matplotlib.axis.YTick at 0x938355bf08>,\n",
       "  <matplotlib.axis.YTick at 0x938353a488>,\n",
       "  <matplotlib.axis.YTick at 0x938355f148>,\n",
       "  <matplotlib.axis.YTick at 0x938355f7c8>],\n",
       " <a list of 9 Text yticklabel objects>)"
      ]
     },
     "execution_count": 73,
     "metadata": {},
     "output_type": "execute_result"
    },
    {
     "data": {
      "image/png": "[encoded data removed]",
      "text/plain": [
       "<Figure size 720x432 with 1 Axes>"
      ]
     },
     "metadata": {},
     "output_type": "display_data"
    }
   ],
   "source": [
    "# FEV1 / FVC by Asthma\n",
    "plt.figure(figsize=(10,6))\n",
    "sns.set_style(\"whitegrid\")\n",
    "sns.boxplot(x= 'PRE32', y='RATIO',data=df2,palette='rainbow').set_title(\"FEV1/FVC Ratio by Asthma\")\n",
    "\n",
    "plt.xlabel('Asthma')\n",
    "plt.yticks(np.arange(0.4, 1.3, 0.1))"
   ]
  },
  {
   "cell_type": "code",
   "execution_count": 74,
   "metadata": {},
   "outputs": [
    {
     "data": {
      "text/plain": [
       "0    453\n",
       "1      2\n",
       "Name: PRE32, dtype: int64"
      ]
     },
     "execution_count": 74,
     "metadata": {},
     "output_type": "execute_result"
    }
   ],
   "source": [
    "df2['PRE32'].value_counts()"
   ]
  },
  {
   "cell_type": "markdown",
   "metadata": {},
   "source": [
    "<p>Asthma patients have FEV1 / FVC Ratio below 70%, but there were only two of them</p>"
   ]
  },
  {
   "cell_type": "markdown",
   "metadata": {},
   "source": [
    "<p>Next step</p>\n",
    "<p>PRE14: T in clinical TNM - size of the original tumour, from OC11 (smallest) to OC14 (largest) (OC11,OC14,OC12,OC13)</p>"
   ]
  },
  {
   "cell_type": "code",
   "execution_count": 32,
   "metadata": {},
   "outputs": [
    {
     "data": {
      "text/plain": [
       "Text(0.5, 0, 'OC type')"
      ]
     },
     "execution_count": 32,
     "metadata": {},
     "output_type": "execute_result"
    },
    {
     "data": {
      "image/png": "[encoded data removed]",
      "text/plain": [
       "<Figure size 1152x720 with 1 Axes>"
      ]
     },
     "metadata": {},
     "output_type": "display_data"
    }
   ],
   "source": [
    "# this plot shows count of a given OC in all patients\n",
    "sns.set_style(style=\"whitegrid\")\n",
    "fig, ax = plt.subplots(figsize=(16,10))\n",
    "ax.set_title(\"Type of OC in all patients\")\n",
    "\n",
    "sns.set(font_scale=2)\n",
    "sns.countplot(x= 'PRE14', data = df2)\n",
    "ax.set_xlabel('OC type')"
   ]
  },
  {
   "cell_type": "code",
   "execution_count": 33,
   "metadata": {},
   "outputs": [
    {
     "data": {
      "text/plain": [
       "Text(0.5, 0, 'OC type')"
      ]
     },
     "execution_count": 33,
     "metadata": {},
     "output_type": "execute_result"
    },
    {
     "data": {
      "image/png": "[encoded data removed]",
      "text/plain": [
       "<Figure size 1152x720 with 1 Axes>"
      ]
     },
     "metadata": {},
     "output_type": "display_data"
    }
   ],
   "source": [
    "# this plot shows count of a given OC in patients who didnt survive 1st year\n",
    "sns.set_style(style=\"whitegrid\")\n",
    "fig, ax = plt.subplots(figsize=(16,10))\n",
    "sns.set(font_scale=2)\n",
    "ax.set_title(\"Type of OC in patients who didn't survive first year after surgery\")\n",
    "sns.countplot(x= 'PRE14',  data =df2[df2['Risk1Yr'] == 1])\n",
    "ax.set_xlabel('OC type')"
   ]
  },
  {
   "cell_type": "markdown",
   "metadata": {},
   "source": [
    "<p>The data show that the majority of patients had a tumor classified as OC12 and OC11.</p>\n",
    "<p>The trend is similar in patients who did not survive 1 year after surgery.</p>"
   ]
  },
  {
   "cell_type": "markdown",
   "metadata": {},
   "source": [
    "<h5>Data preparation before modeling.</h5>"
   ]
  },
  {
   "cell_type": "code",
   "execution_count": 34,
   "metadata": {},
   "outputs": [
    {
     "name": "stdout",
     "output_type": "stream",
     "text": [
      "<class 'pandas.core.frame.DataFrame'>\n",
      "Int64Index: 455 entries, 0 to 469\n",
      "Data columns (total 19 columns):\n",
      " #   Column   Non-Null Count  Dtype  \n",
      "---  ------   --------------  -----  \n",
      " 0   id       455 non-null    int64  \n",
      " 1   DGN      455 non-null    object \n",
      " 2   PRE4     455 non-null    float64\n",
      " 3   PRE5     455 non-null    float64\n",
      " 4   PRE6     455 non-null    object \n",
      " 5   PRE7     455 non-null    int32  \n",
      " 6   PRE8     455 non-null    int32  \n",
      " 7   PRE9     455 non-null    int32  \n",
      " 8   PRE10    455 non-null    int32  \n",
      " 9   PRE11    455 non-null    int32  \n",
      " 10  PRE14    455 non-null    object \n",
      " 11  PRE17    455 non-null    int32  \n",
      " 12  PRE19    455 non-null    int32  \n",
      " 13  PRE25    455 non-null    int32  \n",
      " 14  PRE30    455 non-null    int32  \n",
      " 15  PRE32    455 non-null    int32  \n",
      " 16  AGE      455 non-null    int64  \n",
      " 17  Risk1Yr  455 non-null    int32  \n",
      " 18  RATIO    455 non-null    float64\n",
      "dtypes: float64(3), int32(11), int64(2), object(3)\n",
      "memory usage: 71.5+ KB\n"
     ]
    }
   ],
   "source": [
    "#### DGN, PRE6 and PRE14 are object dtypes, so I'll use get_dummies - one hot encoding\n",
    "df2.info()"
   ]
  },
  {
   "cell_type": "code",
   "execution_count": 35,
   "metadata": {},
   "outputs": [],
   "source": [
    "# first I remove ID column\n",
    "df2 = df2.drop('id', axis = 1)"
   ]
  },
  {
   "cell_type": "code",
   "execution_count": 36,
   "metadata": {},
   "outputs": [
    {
     "data": {
      "text/html": [
       "<div>\n",
       "<style scoped>\n",
       "    .dataframe tbody tr th:only-of-type {\n",
       "        vertical-align: middle;\n",
       "    }\n",
       "\n",
       "    .dataframe tbody tr th {\n",
       "        vertical-align: top;\n",
       "    }\n",
       "\n",
       "    .dataframe thead th {\n",
       "        text-align: right;\n",
       "    }\n",
       "</style>\n",
       "<table border=\"1\" class=\"dataframe\">\n",
       "  <thead>\n",
       "    <tr style=\"text-align: right;\">\n",
       "      <th></th>\n",
       "      <th>DGN</th>\n",
       "      <th>PRE4</th>\n",
       "      <th>PRE5</th>\n",
       "      <th>PRE6</th>\n",
       "      <th>PRE7</th>\n",
       "      <th>PRE8</th>\n",
       "      <th>PRE9</th>\n",
       "      <th>PRE10</th>\n",
       "      <th>PRE11</th>\n",
       "      <th>PRE14</th>\n",
       "      <th>PRE17</th>\n",
       "      <th>PRE19</th>\n",
       "      <th>PRE25</th>\n",
       "      <th>PRE30</th>\n",
       "      <th>PRE32</th>\n",
       "      <th>AGE</th>\n",
       "      <th>Risk1Yr</th>\n",
       "      <th>RATIO</th>\n",
       "    </tr>\n",
       "  </thead>\n",
       "  <tbody>\n",
       "    <tr>\n",
       "      <th>0</th>\n",
       "      <td>DGN2</td>\n",
       "      <td>2.88</td>\n",
       "      <td>2.16</td>\n",
       "      <td>PRZ1</td>\n",
       "      <td>0</td>\n",
       "      <td>0</td>\n",
       "      <td>0</td>\n",
       "      <td>1</td>\n",
       "      <td>1</td>\n",
       "      <td>OC14</td>\n",
       "      <td>0</td>\n",
       "      <td>0</td>\n",
       "      <td>0</td>\n",
       "      <td>1</td>\n",
       "      <td>0</td>\n",
       "      <td>60</td>\n",
       "      <td>0</td>\n",
       "      <td>0.750000</td>\n",
       "    </tr>\n",
       "    <tr>\n",
       "      <th>1</th>\n",
       "      <td>DGN3</td>\n",
       "      <td>3.40</td>\n",
       "      <td>1.88</td>\n",
       "      <td>PRZ0</td>\n",
       "      <td>0</td>\n",
       "      <td>0</td>\n",
       "      <td>0</td>\n",
       "      <td>0</td>\n",
       "      <td>0</td>\n",
       "      <td>OC12</td>\n",
       "      <td>0</td>\n",
       "      <td>0</td>\n",
       "      <td>0</td>\n",
       "      <td>1</td>\n",
       "      <td>0</td>\n",
       "      <td>51</td>\n",
       "      <td>0</td>\n",
       "      <td>0.552941</td>\n",
       "    </tr>\n",
       "    <tr>\n",
       "      <th>2</th>\n",
       "      <td>DGN3</td>\n",
       "      <td>2.76</td>\n",
       "      <td>2.08</td>\n",
       "      <td>PRZ1</td>\n",
       "      <td>0</td>\n",
       "      <td>0</td>\n",
       "      <td>0</td>\n",
       "      <td>1</td>\n",
       "      <td>0</td>\n",
       "      <td>OC11</td>\n",
       "      <td>0</td>\n",
       "      <td>0</td>\n",
       "      <td>0</td>\n",
       "      <td>1</td>\n",
       "      <td>0</td>\n",
       "      <td>59</td>\n",
       "      <td>0</td>\n",
       "      <td>0.753623</td>\n",
       "    </tr>\n",
       "    <tr>\n",
       "      <th>3</th>\n",
       "      <td>DGN3</td>\n",
       "      <td>3.68</td>\n",
       "      <td>3.04</td>\n",
       "      <td>PRZ0</td>\n",
       "      <td>0</td>\n",
       "      <td>0</td>\n",
       "      <td>0</td>\n",
       "      <td>0</td>\n",
       "      <td>0</td>\n",
       "      <td>OC11</td>\n",
       "      <td>0</td>\n",
       "      <td>0</td>\n",
       "      <td>0</td>\n",
       "      <td>0</td>\n",
       "      <td>0</td>\n",
       "      <td>54</td>\n",
       "      <td>0</td>\n",
       "      <td>0.826087</td>\n",
       "    </tr>\n",
       "    <tr>\n",
       "      <th>4</th>\n",
       "      <td>DGN3</td>\n",
       "      <td>2.44</td>\n",
       "      <td>0.96</td>\n",
       "      <td>PRZ2</td>\n",
       "      <td>0</td>\n",
       "      <td>1</td>\n",
       "      <td>0</td>\n",
       "      <td>1</td>\n",
       "      <td>1</td>\n",
       "      <td>OC11</td>\n",
       "      <td>0</td>\n",
       "      <td>0</td>\n",
       "      <td>0</td>\n",
       "      <td>1</td>\n",
       "      <td>0</td>\n",
       "      <td>73</td>\n",
       "      <td>1</td>\n",
       "      <td>0.393443</td>\n",
       "    </tr>\n",
       "  </tbody>\n",
       "</table>\n",
       "</div>"
      ],
      "text/plain": [
       "    DGN  PRE4  PRE5  PRE6  PRE7  PRE8  PRE9  PRE10  PRE11 PRE14  PRE17  PRE19  \\\n",
       "0  DGN2  2.88  2.16  PRZ1     0     0     0      1      1  OC14      0      0   \n",
       "1  DGN3  3.40  1.88  PRZ0     0     0     0      0      0  OC12      0      0   \n",
       "2  DGN3  2.76  2.08  PRZ1     0     0     0      1      0  OC11      0      0   \n",
       "3  DGN3  3.68  3.04  PRZ0     0     0     0      0      0  OC11      0      0   \n",
       "4  DGN3  2.44  0.96  PRZ2     0     1     0      1      1  OC11      0      0   \n",
       "\n",
       "   PRE25  PRE30  PRE32  AGE  Risk1Yr     RATIO  \n",
       "0      0      1      0   60        0  0.750000  \n",
       "1      0      1      0   51        0  0.552941  \n",
       "2      0      1      0   59        0  0.753623  \n",
       "3      0      0      0   54        0  0.826087  \n",
       "4      0      1      0   73        1  0.393443  "
      ]
     },
     "execution_count": 36,
     "metadata": {},
     "output_type": "execute_result"
    }
   ],
   "source": [
    "df2.head()"
   ]
  },
  {
   "cell_type": "code",
   "execution_count": 37,
   "metadata": {},
   "outputs": [],
   "source": [
    "# using get_dummies\n",
    "# new data frame: df3\n",
    "df3 = pd.get_dummies(df2, drop_first = False, columns = ['DGN', 'PRE6', 'PRE14'])"
   ]
  },
  {
   "cell_type": "code",
   "execution_count": 38,
   "metadata": {},
   "outputs": [
    {
     "name": "stdout",
     "output_type": "stream",
     "text": [
      "<class 'pandas.core.frame.DataFrame'>\n",
      "Int64Index: 455 entries, 0 to 469\n",
      "Data columns (total 29 columns):\n",
      " #   Column      Non-Null Count  Dtype  \n",
      "---  ------      --------------  -----  \n",
      " 0   PRE4        455 non-null    float64\n",
      " 1   PRE5        455 non-null    float64\n",
      " 2   PRE7        455 non-null    int32  \n",
      " 3   PRE8        455 non-null    int32  \n",
      " 4   PRE9        455 non-null    int32  \n",
      " 5   PRE10       455 non-null    int32  \n",
      " 6   PRE11       455 non-null    int32  \n",
      " 7   PRE17       455 non-null    int32  \n",
      " 8   PRE19       455 non-null    int32  \n",
      " 9   PRE25       455 non-null    int32  \n",
      " 10  PRE30       455 non-null    int32  \n",
      " 11  PRE32       455 non-null    int32  \n",
      " 12  AGE         455 non-null    int64  \n",
      " 13  Risk1Yr     455 non-null    int32  \n",
      " 14  RATIO       455 non-null    float64\n",
      " 15  DGN_DGN1    455 non-null    uint8  \n",
      " 16  DGN_DGN2    455 non-null    uint8  \n",
      " 17  DGN_DGN3    455 non-null    uint8  \n",
      " 18  DGN_DGN4    455 non-null    uint8  \n",
      " 19  DGN_DGN5    455 non-null    uint8  \n",
      " 20  DGN_DGN6    455 non-null    uint8  \n",
      " 21  DGN_DGN8    455 non-null    uint8  \n",
      " 22  PRE6_PRZ0   455 non-null    uint8  \n",
      " 23  PRE6_PRZ1   455 non-null    uint8  \n",
      " 24  PRE6_PRZ2   455 non-null    uint8  \n",
      " 25  PRE14_OC11  455 non-null    uint8  \n",
      " 26  PRE14_OC12  455 non-null    uint8  \n",
      " 27  PRE14_OC13  455 non-null    uint8  \n",
      " 28  PRE14_OC14  455 non-null    uint8  \n",
      "dtypes: float64(3), int32(11), int64(1), uint8(14)\n",
      "memory usage: 63.5 KB\n"
     ]
    }
   ],
   "source": [
    "# no objcets now\n",
    "df3.info()"
   ]
  },
  {
   "cell_type": "code",
   "execution_count": 39,
   "metadata": {},
   "outputs": [
    {
     "data": {
      "text/html": [
       "<div>\n",
       "<style scoped>\n",
       "    .dataframe tbody tr th:only-of-type {\n",
       "        vertical-align: middle;\n",
       "    }\n",
       "\n",
       "    .dataframe tbody tr th {\n",
       "        vertical-align: top;\n",
       "    }\n",
       "\n",
       "    .dataframe thead th {\n",
       "        text-align: right;\n",
       "    }\n",
       "</style>\n",
       "<table border=\"1\" class=\"dataframe\">\n",
       "  <thead>\n",
       "    <tr style=\"text-align: right;\">\n",
       "      <th></th>\n",
       "      <th>PRE4</th>\n",
       "      <th>PRE5</th>\n",
       "      <th>PRE7</th>\n",
       "      <th>PRE8</th>\n",
       "      <th>PRE9</th>\n",
       "      <th>PRE10</th>\n",
       "      <th>PRE11</th>\n",
       "      <th>PRE17</th>\n",
       "      <th>PRE19</th>\n",
       "      <th>PRE25</th>\n",
       "      <th>...</th>\n",
       "      <th>DGN_DGN5</th>\n",
       "      <th>DGN_DGN6</th>\n",
       "      <th>DGN_DGN8</th>\n",
       "      <th>PRE6_PRZ0</th>\n",
       "      <th>PRE6_PRZ1</th>\n",
       "      <th>PRE6_PRZ2</th>\n",
       "      <th>PRE14_OC11</th>\n",
       "      <th>PRE14_OC12</th>\n",
       "      <th>PRE14_OC13</th>\n",
       "      <th>PRE14_OC14</th>\n",
       "    </tr>\n",
       "  </thead>\n",
       "  <tbody>\n",
       "    <tr>\n",
       "      <th>PRE4</th>\n",
       "      <td>1.000000</td>\n",
       "      <td>0.887629</td>\n",
       "      <td>0.002314</td>\n",
       "      <td>-0.103153</td>\n",
       "      <td>0.070447</td>\n",
       "      <td>-0.063979</td>\n",
       "      <td>-0.104872</td>\n",
       "      <td>-0.119992</td>\n",
       "      <td>-0.009675</td>\n",
       "      <td>-0.036955</td>\n",
       "      <td>...</td>\n",
       "      <td>0.002601</td>\n",
       "      <td>0.083624</td>\n",
       "      <td>0.112415</td>\n",
       "      <td>0.091676</td>\n",
       "      <td>-0.059074</td>\n",
       "      <td>-0.054305</td>\n",
       "      <td>-0.051342</td>\n",
       "      <td>0.045967</td>\n",
       "      <td>0.014214</td>\n",
       "      <td>-0.003932</td>\n",
       "    </tr>\n",
       "    <tr>\n",
       "      <th>PRE5</th>\n",
       "      <td>0.887629</td>\n",
       "      <td>1.000000</td>\n",
       "      <td>0.012448</td>\n",
       "      <td>-0.158192</td>\n",
       "      <td>0.024821</td>\n",
       "      <td>-0.132661</td>\n",
       "      <td>-0.127682</td>\n",
       "      <td>-0.110765</td>\n",
       "      <td>-0.034142</td>\n",
       "      <td>-0.032711</td>\n",
       "      <td>...</td>\n",
       "      <td>-0.001654</td>\n",
       "      <td>0.070175</td>\n",
       "      <td>0.097807</td>\n",
       "      <td>0.122200</td>\n",
       "      <td>-0.075981</td>\n",
       "      <td>-0.077864</td>\n",
       "      <td>-0.027142</td>\n",
       "      <td>0.031581</td>\n",
       "      <td>-0.009747</td>\n",
       "      <td>-0.003461</td>\n",
       "    </tr>\n",
       "    <tr>\n",
       "      <th>PRE7</th>\n",
       "      <td>0.002314</td>\n",
       "      <td>0.012448</td>\n",
       "      <td>1.000000</td>\n",
       "      <td>0.225624</td>\n",
       "      <td>0.061907</td>\n",
       "      <td>-0.055571</td>\n",
       "      <td>-0.064880</td>\n",
       "      <td>0.034755</td>\n",
       "      <td>-0.016689</td>\n",
       "      <td>-0.033601</td>\n",
       "      <td>...</td>\n",
       "      <td>0.012763</td>\n",
       "      <td>-0.023654</td>\n",
       "      <td>-0.016689</td>\n",
       "      <td>-0.130120</td>\n",
       "      <td>0.094963</td>\n",
       "      <td>0.055036</td>\n",
       "      <td>-0.062585</td>\n",
       "      <td>-0.012271</td>\n",
       "      <td>0.187642</td>\n",
       "      <td>-0.000431</td>\n",
       "    </tr>\n",
       "    <tr>\n",
       "      <th>PRE8</th>\n",
       "      <td>-0.103153</td>\n",
       "      <td>-0.158192</td>\n",
       "      <td>0.225624</td>\n",
       "      <td>1.000000</td>\n",
       "      <td>0.101023</td>\n",
       "      <td>0.068715</td>\n",
       "      <td>0.074306</td>\n",
       "      <td>0.008942</td>\n",
       "      <td>-0.026392</td>\n",
       "      <td>0.093096</td>\n",
       "      <td>...</td>\n",
       "      <td>0.008789</td>\n",
       "      <td>-0.037406</td>\n",
       "      <td>-0.026392</td>\n",
       "      <td>-0.108571</td>\n",
       "      <td>0.056983</td>\n",
       "      <td>0.090047</td>\n",
       "      <td>-0.060358</td>\n",
       "      <td>0.055849</td>\n",
       "      <td>-0.014880</td>\n",
       "      <td>0.023089</td>\n",
       "    </tr>\n",
       "    <tr>\n",
       "      <th>PRE9</th>\n",
       "      <td>0.070447</td>\n",
       "      <td>0.024821</td>\n",
       "      <td>0.061907</td>\n",
       "      <td>0.101023</td>\n",
       "      <td>1.000000</td>\n",
       "      <td>0.076163</td>\n",
       "      <td>-0.058494</td>\n",
       "      <td>-0.031843</td>\n",
       "      <td>-0.016021</td>\n",
       "      <td>0.114513</td>\n",
       "      <td>...</td>\n",
       "      <td>0.016541</td>\n",
       "      <td>-0.022708</td>\n",
       "      <td>-0.016021</td>\n",
       "      <td>-0.079641</td>\n",
       "      <td>0.043890</td>\n",
       "      <td>0.061907</td>\n",
       "      <td>-0.109385</td>\n",
       "      <td>0.085741</td>\n",
       "      <td>0.099504</td>\n",
       "      <td>-0.047503</td>\n",
       "    </tr>\n",
       "    <tr>\n",
       "      <th>PRE10</th>\n",
       "      <td>-0.063979</td>\n",
       "      <td>-0.132661</td>\n",
       "      <td>-0.055571</td>\n",
       "      <td>0.068715</td>\n",
       "      <td>0.076163</td>\n",
       "      <td>1.000000</td>\n",
       "      <td>0.200394</td>\n",
       "      <td>0.025165</td>\n",
       "      <td>0.044069</td>\n",
       "      <td>0.016118</td>\n",
       "      <td>...</td>\n",
       "      <td>-0.029459</td>\n",
       "      <td>0.011346</td>\n",
       "      <td>-0.100185</td>\n",
       "      <td>-0.756329</td>\n",
       "      <td>0.639483</td>\n",
       "      <td>0.146385</td>\n",
       "      <td>-0.119418</td>\n",
       "      <td>0.052269</td>\n",
       "      <td>0.085648</td>\n",
       "      <td>0.080344</td>\n",
       "    </tr>\n",
       "    <tr>\n",
       "      <th>PRE11</th>\n",
       "      <td>-0.104872</td>\n",
       "      <td>-0.127682</td>\n",
       "      <td>-0.064880</td>\n",
       "      <td>0.074306</td>\n",
       "      <td>-0.058494</td>\n",
       "      <td>0.200394</td>\n",
       "      <td>1.000000</td>\n",
       "      <td>0.070334</td>\n",
       "      <td>0.057928</td>\n",
       "      <td>0.027890</td>\n",
       "      <td>...</td>\n",
       "      <td>0.062006</td>\n",
       "      <td>-0.042837</td>\n",
       "      <td>-0.030223</td>\n",
       "      <td>-0.273776</td>\n",
       "      <td>0.041967</td>\n",
       "      <td>0.428771</td>\n",
       "      <td>0.076196</td>\n",
       "      <td>-0.085956</td>\n",
       "      <td>-0.002564</td>\n",
       "      <td>0.033385</td>\n",
       "    </tr>\n",
       "    <tr>\n",
       "      <th>PRE17</th>\n",
       "      <td>-0.119992</td>\n",
       "      <td>-0.110765</td>\n",
       "      <td>0.034755</td>\n",
       "      <td>0.008942</td>\n",
       "      <td>-0.031843</td>\n",
       "      <td>0.025165</td>\n",
       "      <td>0.070334</td>\n",
       "      <td>1.000000</td>\n",
       "      <td>-0.018883</td>\n",
       "      <td>0.025578</td>\n",
       "      <td>...</td>\n",
       "      <td>0.051604</td>\n",
       "      <td>-0.026763</td>\n",
       "      <td>-0.018883</td>\n",
       "      <td>-0.057543</td>\n",
       "      <td>0.072425</td>\n",
       "      <td>-0.036000</td>\n",
       "      <td>-0.015969</td>\n",
       "      <td>0.009108</td>\n",
       "      <td>-0.057676</td>\n",
       "      <td>0.076231</td>\n",
       "    </tr>\n",
       "    <tr>\n",
       "      <th>PRE19</th>\n",
       "      <td>-0.009675</td>\n",
       "      <td>-0.034142</td>\n",
       "      <td>-0.016689</td>\n",
       "      <td>-0.026392</td>\n",
       "      <td>-0.016021</td>\n",
       "      <td>0.044069</td>\n",
       "      <td>0.057928</td>\n",
       "      <td>-0.018883</td>\n",
       "      <td>1.000000</td>\n",
       "      <td>-0.008889</td>\n",
       "      <td>...</td>\n",
       "      <td>-0.011395</td>\n",
       "      <td>-0.006258</td>\n",
       "      <td>-0.004415</td>\n",
       "      <td>-0.039993</td>\n",
       "      <td>0.046135</td>\n",
       "      <td>-0.016689</td>\n",
       "      <td>0.016395</td>\n",
       "      <td>-0.005716</td>\n",
       "      <td>-0.013485</td>\n",
       "      <td>-0.013090</td>\n",
       "    </tr>\n",
       "    <tr>\n",
       "      <th>PRE25</th>\n",
       "      <td>-0.036955</td>\n",
       "      <td>-0.032711</td>\n",
       "      <td>-0.033601</td>\n",
       "      <td>0.093096</td>\n",
       "      <td>0.114513</td>\n",
       "      <td>0.016118</td>\n",
       "      <td>0.027890</td>\n",
       "      <td>0.025578</td>\n",
       "      <td>-0.008889</td>\n",
       "      <td>1.000000</td>\n",
       "      <td>...</td>\n",
       "      <td>0.077433</td>\n",
       "      <td>-0.012599</td>\n",
       "      <td>-0.008889</td>\n",
       "      <td>-0.042673</td>\n",
       "      <td>0.057191</td>\n",
       "      <td>-0.033601</td>\n",
       "      <td>-0.001438</td>\n",
       "      <td>0.022059</td>\n",
       "      <td>-0.027151</td>\n",
       "      <td>-0.026356</td>\n",
       "    </tr>\n",
       "    <tr>\n",
       "      <th>PRE30</th>\n",
       "      <td>-0.009885</td>\n",
       "      <td>-0.051169</td>\n",
       "      <td>-0.081340</td>\n",
       "      <td>-0.020890</td>\n",
       "      <td>-0.042251</td>\n",
       "      <td>0.199857</td>\n",
       "      <td>0.116124</td>\n",
       "      <td>-0.046266</td>\n",
       "      <td>0.030457</td>\n",
       "      <td>0.061321</td>\n",
       "      <td>...</td>\n",
       "      <td>-0.025872</td>\n",
       "      <td>-0.018988</td>\n",
       "      <td>-0.144959</td>\n",
       "      <td>-0.196868</td>\n",
       "      <td>0.164764</td>\n",
       "      <td>0.041452</td>\n",
       "      <td>-0.035411</td>\n",
       "      <td>0.021963</td>\n",
       "      <td>0.003729</td>\n",
       "      <td>0.029115</td>\n",
       "    </tr>\n",
       "    <tr>\n",
       "      <th>PRE32</th>\n",
       "      <td>-0.061944</td>\n",
       "      <td>-0.078987</td>\n",
       "      <td>-0.016689</td>\n",
       "      <td>-0.026392</td>\n",
       "      <td>-0.016021</td>\n",
       "      <td>-0.028058</td>\n",
       "      <td>-0.030223</td>\n",
       "      <td>-0.018883</td>\n",
       "      <td>-0.004415</td>\n",
       "      <td>-0.008889</td>\n",
       "      <td>...</td>\n",
       "      <td>-0.011395</td>\n",
       "      <td>-0.006258</td>\n",
       "      <td>-0.004415</td>\n",
       "      <td>0.035201</td>\n",
       "      <td>-0.024782</td>\n",
       "      <td>-0.016689</td>\n",
       "      <td>0.016395</td>\n",
       "      <td>-0.005716</td>\n",
       "      <td>-0.013485</td>\n",
       "      <td>-0.013090</td>\n",
       "    </tr>\n",
       "    <tr>\n",
       "      <th>AGE</th>\n",
       "      <td>-0.285144</td>\n",
       "      <td>-0.295495</td>\n",
       "      <td>0.058561</td>\n",
       "      <td>0.085480</td>\n",
       "      <td>0.004298</td>\n",
       "      <td>0.143508</td>\n",
       "      <td>0.205173</td>\n",
       "      <td>0.090474</td>\n",
       "      <td>-0.032134</td>\n",
       "      <td>0.057025</td>\n",
       "      <td>...</td>\n",
       "      <td>0.061099</td>\n",
       "      <td>0.068706</td>\n",
       "      <td>-0.070519</td>\n",
       "      <td>-0.129298</td>\n",
       "      <td>0.005142</td>\n",
       "      <td>0.231603</td>\n",
       "      <td>-0.061531</td>\n",
       "      <td>0.088506</td>\n",
       "      <td>-0.014777</td>\n",
       "      <td>-0.059794</td>\n",
       "    </tr>\n",
       "    <tr>\n",
       "      <th>Risk1Yr</th>\n",
       "      <td>-0.044533</td>\n",
       "      <td>-0.072821</td>\n",
       "      <td>0.075355</td>\n",
       "      <td>0.082120</td>\n",
       "      <td>0.113174</td>\n",
       "      <td>0.094172</td>\n",
       "      <td>0.084079</td>\n",
       "      <td>0.112879</td>\n",
       "      <td>-0.028093</td>\n",
       "      <td>0.036683</td>\n",
       "      <td>...</td>\n",
       "      <td>0.184950</td>\n",
       "      <td>-0.039817</td>\n",
       "      <td>0.064532</td>\n",
       "      <td>-0.074188</td>\n",
       "      <td>0.031966</td>\n",
       "      <td>0.075355</td>\n",
       "      <td>-0.103948</td>\n",
       "      <td>0.018977</td>\n",
       "      <td>0.071368</td>\n",
       "      <td>0.142872</td>\n",
       "    </tr>\n",
       "    <tr>\n",
       "      <th>RATIO</th>\n",
       "      <td>0.035034</td>\n",
       "      <td>0.478893</td>\n",
       "      <td>0.038202</td>\n",
       "      <td>-0.158782</td>\n",
       "      <td>-0.055194</td>\n",
       "      <td>-0.156251</td>\n",
       "      <td>-0.103566</td>\n",
       "      <td>-0.008371</td>\n",
       "      <td>-0.065393</td>\n",
       "      <td>-0.000695</td>\n",
       "      <td>...</td>\n",
       "      <td>-0.017524</td>\n",
       "      <td>-0.000069</td>\n",
       "      <td>0.000079</td>\n",
       "      <td>0.088237</td>\n",
       "      <td>-0.048433</td>\n",
       "      <td>-0.068975</td>\n",
       "      <td>0.012897</td>\n",
       "      <td>0.001531</td>\n",
       "      <td>-0.042488</td>\n",
       "      <td>0.006637</td>\n",
       "    </tr>\n",
       "    <tr>\n",
       "      <th>DGN_DGN1</th>\n",
       "      <td>0.027660</td>\n",
       "      <td>0.017306</td>\n",
       "      <td>-0.011788</td>\n",
       "      <td>-0.018641</td>\n",
       "      <td>-0.011316</td>\n",
       "      <td>-0.070763</td>\n",
       "      <td>-0.021348</td>\n",
       "      <td>-0.013337</td>\n",
       "      <td>-0.003118</td>\n",
       "      <td>-0.006279</td>\n",
       "      <td>...</td>\n",
       "      <td>-0.008049</td>\n",
       "      <td>-0.004420</td>\n",
       "      <td>-0.003118</td>\n",
       "      <td>0.077975</td>\n",
       "      <td>-0.067594</td>\n",
       "      <td>-0.011788</td>\n",
       "      <td>-0.036760</td>\n",
       "      <td>0.043068</td>\n",
       "      <td>-0.009525</td>\n",
       "      <td>-0.009246</td>\n",
       "    </tr>\n",
       "    <tr>\n",
       "      <th>DGN_DGN2</th>\n",
       "      <td>0.003397</td>\n",
       "      <td>-0.004864</td>\n",
       "      <td>-0.027239</td>\n",
       "      <td>0.110007</td>\n",
       "      <td>0.009573</td>\n",
       "      <td>0.030311</td>\n",
       "      <td>0.030099</td>\n",
       "      <td>-0.017837</td>\n",
       "      <td>-0.023083</td>\n",
       "      <td>0.061414</td>\n",
       "      <td>...</td>\n",
       "      <td>-0.059579</td>\n",
       "      <td>-0.032717</td>\n",
       "      <td>-0.023083</td>\n",
       "      <td>-0.048634</td>\n",
       "      <td>0.029336</td>\n",
       "      <td>0.032779</td>\n",
       "      <td>-0.096843</td>\n",
       "      <td>-0.008539</td>\n",
       "      <td>0.074983</td>\n",
       "      <td>0.193248</td>\n",
       "    </tr>\n",
       "    <tr>\n",
       "      <th>DGN_DGN3</th>\n",
       "      <td>-0.084140</td>\n",
       "      <td>-0.074641</td>\n",
       "      <td>0.016419</td>\n",
       "      <td>-0.051240</td>\n",
       "      <td>0.028128</td>\n",
       "      <td>0.045956</td>\n",
       "      <td>-0.019609</td>\n",
       "      <td>-0.028573</td>\n",
       "      <td>0.038419</td>\n",
       "      <td>-0.038421</td>\n",
       "      <td>...</td>\n",
       "      <td>-0.296610</td>\n",
       "      <td>-0.162880</td>\n",
       "      <td>-0.114919</td>\n",
       "      <td>0.003633</td>\n",
       "      <td>0.020772</td>\n",
       "      <td>-0.047983</td>\n",
       "      <td>0.066293</td>\n",
       "      <td>-0.021526</td>\n",
       "      <td>-0.038772</td>\n",
       "      <td>-0.073295</td>\n",
       "    </tr>\n",
       "    <tr>\n",
       "      <th>DGN_DGN4</th>\n",
       "      <td>0.061756</td>\n",
       "      <td>0.067986</td>\n",
       "      <td>0.010273</td>\n",
       "      <td>-0.024289</td>\n",
       "      <td>-0.047574</td>\n",
       "      <td>-0.051989</td>\n",
       "      <td>-0.013953</td>\n",
       "      <td>0.045843</td>\n",
       "      <td>-0.022013</td>\n",
       "      <td>-0.044321</td>\n",
       "      <td>...</td>\n",
       "      <td>-0.056817</td>\n",
       "      <td>-0.031200</td>\n",
       "      <td>-0.022013</td>\n",
       "      <td>0.017212</td>\n",
       "      <td>-0.021414</td>\n",
       "      <td>0.010273</td>\n",
       "      <td>-0.016832</td>\n",
       "      <td>0.052781</td>\n",
       "      <td>-0.029468</td>\n",
       "      <td>-0.065268</td>\n",
       "    </tr>\n",
       "    <tr>\n",
       "      <th>DGN_DGN5</th>\n",
       "      <td>0.002601</td>\n",
       "      <td>-0.001654</td>\n",
       "      <td>0.012763</td>\n",
       "      <td>0.008789</td>\n",
       "      <td>0.016541</td>\n",
       "      <td>-0.029459</td>\n",
       "      <td>0.062006</td>\n",
       "      <td>0.051604</td>\n",
       "      <td>-0.011395</td>\n",
       "      <td>0.077433</td>\n",
       "      <td>...</td>\n",
       "      <td>1.000000</td>\n",
       "      <td>-0.016151</td>\n",
       "      <td>-0.011395</td>\n",
       "      <td>-0.013649</td>\n",
       "      <td>0.006437</td>\n",
       "      <td>0.012763</td>\n",
       "      <td>0.028729</td>\n",
       "      <td>-0.027995</td>\n",
       "      <td>0.032872</td>\n",
       "      <td>-0.033787</td>\n",
       "    </tr>\n",
       "    <tr>\n",
       "      <th>DGN_DGN6</th>\n",
       "      <td>0.083624</td>\n",
       "      <td>0.070175</td>\n",
       "      <td>-0.023654</td>\n",
       "      <td>-0.037406</td>\n",
       "      <td>-0.022708</td>\n",
       "      <td>0.011346</td>\n",
       "      <td>-0.042837</td>\n",
       "      <td>-0.026763</td>\n",
       "      <td>-0.006258</td>\n",
       "      <td>-0.012599</td>\n",
       "      <td>...</td>\n",
       "      <td>-0.016151</td>\n",
       "      <td>1.000000</td>\n",
       "      <td>-0.006258</td>\n",
       "      <td>-0.003396</td>\n",
       "      <td>-0.035124</td>\n",
       "      <td>0.075999</td>\n",
       "      <td>0.023238</td>\n",
       "      <td>-0.008102</td>\n",
       "      <td>-0.019113</td>\n",
       "      <td>-0.018554</td>\n",
       "    </tr>\n",
       "    <tr>\n",
       "      <th>DGN_DGN8</th>\n",
       "      <td>0.112415</td>\n",
       "      <td>0.097807</td>\n",
       "      <td>-0.016689</td>\n",
       "      <td>-0.026392</td>\n",
       "      <td>-0.016021</td>\n",
       "      <td>-0.100185</td>\n",
       "      <td>-0.030223</td>\n",
       "      <td>-0.018883</td>\n",
       "      <td>-0.004415</td>\n",
       "      <td>-0.008889</td>\n",
       "      <td>...</td>\n",
       "      <td>-0.011395</td>\n",
       "      <td>-0.006258</td>\n",
       "      <td>1.000000</td>\n",
       "      <td>0.110394</td>\n",
       "      <td>-0.095698</td>\n",
       "      <td>-0.016689</td>\n",
       "      <td>0.016395</td>\n",
       "      <td>-0.005716</td>\n",
       "      <td>-0.013485</td>\n",
       "      <td>-0.013090</td>\n",
       "    </tr>\n",
       "    <tr>\n",
       "      <th>PRE6_PRZ0</th>\n",
       "      <td>0.091676</td>\n",
       "      <td>0.122200</td>\n",
       "      <td>-0.130120</td>\n",
       "      <td>-0.108571</td>\n",
       "      <td>-0.079641</td>\n",
       "      <td>-0.756329</td>\n",
       "      <td>-0.273776</td>\n",
       "      <td>-0.057543</td>\n",
       "      <td>-0.039993</td>\n",
       "      <td>-0.042673</td>\n",
       "      <td>...</td>\n",
       "      <td>-0.013649</td>\n",
       "      <td>-0.003396</td>\n",
       "      <td>0.110394</td>\n",
       "      <td>1.000000</td>\n",
       "      <td>-0.866878</td>\n",
       "      <td>-0.151175</td>\n",
       "      <td>0.081909</td>\n",
       "      <td>-0.026818</td>\n",
       "      <td>-0.096637</td>\n",
       "      <td>-0.039891</td>\n",
       "    </tr>\n",
       "    <tr>\n",
       "      <th>PRE6_PRZ1</th>\n",
       "      <td>-0.059074</td>\n",
       "      <td>-0.075981</td>\n",
       "      <td>0.094963</td>\n",
       "      <td>0.056983</td>\n",
       "      <td>0.043890</td>\n",
       "      <td>0.639483</td>\n",
       "      <td>0.041967</td>\n",
       "      <td>0.072425</td>\n",
       "      <td>0.046135</td>\n",
       "      <td>0.057191</td>\n",
       "      <td>...</td>\n",
       "      <td>0.006437</td>\n",
       "      <td>-0.035124</td>\n",
       "      <td>-0.095698</td>\n",
       "      <td>-0.866878</td>\n",
       "      <td>1.000000</td>\n",
       "      <td>-0.361741</td>\n",
       "      <td>-0.103672</td>\n",
       "      <td>0.078568</td>\n",
       "      <td>0.068712</td>\n",
       "      <td>-0.011635</td>\n",
       "    </tr>\n",
       "    <tr>\n",
       "      <th>PRE6_PRZ2</th>\n",
       "      <td>-0.054305</td>\n",
       "      <td>-0.077864</td>\n",
       "      <td>0.055036</td>\n",
       "      <td>0.090047</td>\n",
       "      <td>0.061907</td>\n",
       "      <td>0.146385</td>\n",
       "      <td>0.428771</td>\n",
       "      <td>-0.036000</td>\n",
       "      <td>-0.016689</td>\n",
       "      <td>-0.033601</td>\n",
       "      <td>...</td>\n",
       "      <td>0.012763</td>\n",
       "      <td>0.075999</td>\n",
       "      <td>-0.016689</td>\n",
       "      <td>-0.151175</td>\n",
       "      <td>-0.361741</td>\n",
       "      <td>1.000000</td>\n",
       "      <td>0.052392</td>\n",
       "      <td>-0.105639</td>\n",
       "      <td>0.044472</td>\n",
       "      <td>0.097670</td>\n",
       "    </tr>\n",
       "    <tr>\n",
       "      <th>PRE14_OC11</th>\n",
       "      <td>-0.051342</td>\n",
       "      <td>-0.027142</td>\n",
       "      <td>-0.062585</td>\n",
       "      <td>-0.060358</td>\n",
       "      <td>-0.109385</td>\n",
       "      <td>-0.119418</td>\n",
       "      <td>0.076196</td>\n",
       "      <td>-0.015969</td>\n",
       "      <td>0.016395</td>\n",
       "      <td>-0.001438</td>\n",
       "      <td>...</td>\n",
       "      <td>0.028729</td>\n",
       "      <td>0.023238</td>\n",
       "      <td>0.016395</td>\n",
       "      <td>0.081909</td>\n",
       "      <td>-0.103672</td>\n",
       "      <td>0.052392</td>\n",
       "      <td>1.000000</td>\n",
       "      <td>-0.853523</td>\n",
       "      <td>-0.158962</td>\n",
       "      <td>-0.154307</td>\n",
       "    </tr>\n",
       "    <tr>\n",
       "      <th>PRE14_OC12</th>\n",
       "      <td>0.045967</td>\n",
       "      <td>0.031581</td>\n",
       "      <td>-0.012271</td>\n",
       "      <td>0.055849</td>\n",
       "      <td>0.085741</td>\n",
       "      <td>0.052269</td>\n",
       "      <td>-0.085956</td>\n",
       "      <td>0.009108</td>\n",
       "      <td>-0.005716</td>\n",
       "      <td>0.022059</td>\n",
       "      <td>...</td>\n",
       "      <td>-0.027995</td>\n",
       "      <td>-0.008102</td>\n",
       "      <td>-0.005716</td>\n",
       "      <td>-0.026818</td>\n",
       "      <td>0.078568</td>\n",
       "      <td>-0.105639</td>\n",
       "      <td>-0.853523</td>\n",
       "      <td>1.000000</td>\n",
       "      <td>-0.221163</td>\n",
       "      <td>-0.214686</td>\n",
       "    </tr>\n",
       "    <tr>\n",
       "      <th>PRE14_OC13</th>\n",
       "      <td>0.014214</td>\n",
       "      <td>-0.009747</td>\n",
       "      <td>0.187642</td>\n",
       "      <td>-0.014880</td>\n",
       "      <td>0.099504</td>\n",
       "      <td>0.085648</td>\n",
       "      <td>-0.002564</td>\n",
       "      <td>-0.057676</td>\n",
       "      <td>-0.013485</td>\n",
       "      <td>-0.027151</td>\n",
       "      <td>...</td>\n",
       "      <td>0.032872</td>\n",
       "      <td>-0.019113</td>\n",
       "      <td>-0.013485</td>\n",
       "      <td>-0.096637</td>\n",
       "      <td>0.068712</td>\n",
       "      <td>0.044472</td>\n",
       "      <td>-0.158962</td>\n",
       "      <td>-0.221163</td>\n",
       "      <td>1.000000</td>\n",
       "      <td>-0.039984</td>\n",
       "    </tr>\n",
       "    <tr>\n",
       "      <th>PRE14_OC14</th>\n",
       "      <td>-0.003932</td>\n",
       "      <td>-0.003461</td>\n",
       "      <td>-0.000431</td>\n",
       "      <td>0.023089</td>\n",
       "      <td>-0.047503</td>\n",
       "      <td>0.080344</td>\n",
       "      <td>0.033385</td>\n",
       "      <td>0.076231</td>\n",
       "      <td>-0.013090</td>\n",
       "      <td>-0.026356</td>\n",
       "      <td>...</td>\n",
       "      <td>-0.033787</td>\n",
       "      <td>-0.018554</td>\n",
       "      <td>-0.013090</td>\n",
       "      <td>-0.039891</td>\n",
       "      <td>-0.011635</td>\n",
       "      <td>0.097670</td>\n",
       "      <td>-0.154307</td>\n",
       "      <td>-0.214686</td>\n",
       "      <td>-0.039984</td>\n",
       "      <td>1.000000</td>\n",
       "    </tr>\n",
       "  </tbody>\n",
       "</table>\n",
       "<p>29 rows × 29 columns</p>\n",
       "</div>"
      ],
      "text/plain": [
       "                PRE4      PRE5      PRE7      PRE8      PRE9     PRE10  \\\n",
       "PRE4        1.000000  0.887629  0.002314 -0.103153  0.070447 -0.063979   \n",
       "PRE5        0.887629  1.000000  0.012448 -0.158192  0.024821 -0.132661   \n",
       "PRE7        0.002314  0.012448  1.000000  0.225624  0.061907 -0.055571   \n",
       "PRE8       -0.103153 -0.158192  0.225624  1.000000  0.101023  0.068715   \n",
       "PRE9        0.070447  0.024821  0.061907  0.101023  1.000000  0.076163   \n",
       "PRE10      -0.063979 -0.132661 -0.055571  0.068715  0.076163  1.000000   \n",
       "PRE11      -0.104872 -0.127682 -0.064880  0.074306 -0.058494  0.200394   \n",
       "PRE17      -0.119992 -0.110765  0.034755  0.008942 -0.031843  0.025165   \n",
       "PRE19      -0.009675 -0.034142 -0.016689 -0.026392 -0.016021  0.044069   \n",
       "PRE25      -0.036955 -0.032711 -0.033601  0.093096  0.114513  0.016118   \n",
       "PRE30      -0.009885 -0.051169 -0.081340 -0.020890 -0.042251  0.199857   \n",
       "PRE32      -0.061944 -0.078987 -0.016689 -0.026392 -0.016021 -0.028058   \n",
       "AGE        -0.285144 -0.295495  0.058561  0.085480  0.004298  0.143508   \n",
       "Risk1Yr    -0.044533 -0.072821  0.075355  0.082120  0.113174  0.094172   \n",
       "RATIO       0.035034  0.478893  0.038202 -0.158782 -0.055194 -0.156251   \n",
       "DGN_DGN1    0.027660  0.017306 -0.011788 -0.018641 -0.011316 -0.070763   \n",
       "DGN_DGN2    0.003397 -0.004864 -0.027239  0.110007  0.009573  0.030311   \n",
       "DGN_DGN3   -0.084140 -0.074641  0.016419 -0.051240  0.028128  0.045956   \n",
       "DGN_DGN4    0.061756  0.067986  0.010273 -0.024289 -0.047574 -0.051989   \n",
       "DGN_DGN5    0.002601 -0.001654  0.012763  0.008789  0.016541 -0.029459   \n",
       "DGN_DGN6    0.083624  0.070175 -0.023654 -0.037406 -0.022708  0.011346   \n",
       "DGN_DGN8    0.112415  0.097807 -0.016689 -0.026392 -0.016021 -0.100185   \n",
       "PRE6_PRZ0   0.091676  0.122200 -0.130120 -0.108571 -0.079641 -0.756329   \n",
       "PRE6_PRZ1  -0.059074 -0.075981  0.094963  0.056983  0.043890  0.639483   \n",
       "PRE6_PRZ2  -0.054305 -0.077864  0.055036  0.090047  0.061907  0.146385   \n",
       "PRE14_OC11 -0.051342 -0.027142 -0.062585 -0.060358 -0.109385 -0.119418   \n",
       "PRE14_OC12  0.045967  0.031581 -0.012271  0.055849  0.085741  0.052269   \n",
       "PRE14_OC13  0.014214 -0.009747  0.187642 -0.014880  0.099504  0.085648   \n",
       "PRE14_OC14 -0.003932 -0.003461 -0.000431  0.023089 -0.047503  0.080344   \n",
       "\n",
       "               PRE11     PRE17     PRE19     PRE25  ...  DGN_DGN5  DGN_DGN6  \\\n",
       "PRE4       -0.104872 -0.119992 -0.009675 -0.036955  ...  0.002601  0.083624   \n",
       "PRE5       -0.127682 -0.110765 -0.034142 -0.032711  ... -0.001654  0.070175   \n",
       "PRE7       -0.064880  0.034755 -0.016689 -0.033601  ...  0.012763 -0.023654   \n",
       "PRE8        0.074306  0.008942 -0.026392  0.093096  ...  0.008789 -0.037406   \n",
       "PRE9       -0.058494 -0.031843 -0.016021  0.114513  ...  0.016541 -0.022708   \n",
       "PRE10       0.200394  0.025165  0.044069  0.016118  ... -0.029459  0.011346   \n",
       "PRE11       1.000000  0.070334  0.057928  0.027890  ...  0.062006 -0.042837   \n",
       "PRE17       0.070334  1.000000 -0.018883  0.025578  ...  0.051604 -0.026763   \n",
       "PRE19       0.057928 -0.018883  1.000000 -0.008889  ... -0.011395 -0.006258   \n",
       "PRE25       0.027890  0.025578 -0.008889  1.000000  ...  0.077433 -0.012599   \n",
       "PRE30       0.116124 -0.046266  0.030457  0.061321  ... -0.025872 -0.018988   \n",
       "PRE32      -0.030223 -0.018883 -0.004415 -0.008889  ... -0.011395 -0.006258   \n",
       "AGE         0.205173  0.090474 -0.032134  0.057025  ...  0.061099  0.068706   \n",
       "Risk1Yr     0.084079  0.112879 -0.028093  0.036683  ...  0.184950 -0.039817   \n",
       "RATIO      -0.103566 -0.008371 -0.065393 -0.000695  ... -0.017524 -0.000069   \n",
       "DGN_DGN1   -0.021348 -0.013337 -0.003118 -0.006279  ... -0.008049 -0.004420   \n",
       "DGN_DGN2    0.030099 -0.017837 -0.023083  0.061414  ... -0.059579 -0.032717   \n",
       "DGN_DGN3   -0.019609 -0.028573  0.038419 -0.038421  ... -0.296610 -0.162880   \n",
       "DGN_DGN4   -0.013953  0.045843 -0.022013 -0.044321  ... -0.056817 -0.031200   \n",
       "DGN_DGN5    0.062006  0.051604 -0.011395  0.077433  ...  1.000000 -0.016151   \n",
       "DGN_DGN6   -0.042837 -0.026763 -0.006258 -0.012599  ... -0.016151  1.000000   \n",
       "DGN_DGN8   -0.030223 -0.018883 -0.004415 -0.008889  ... -0.011395 -0.006258   \n",
       "PRE6_PRZ0  -0.273776 -0.057543 -0.039993 -0.042673  ... -0.013649 -0.003396   \n",
       "PRE6_PRZ1   0.041967  0.072425  0.046135  0.057191  ...  0.006437 -0.035124   \n",
       "PRE6_PRZ2   0.428771 -0.036000 -0.016689 -0.033601  ...  0.012763  0.075999   \n",
       "PRE14_OC11  0.076196 -0.015969  0.016395 -0.001438  ...  0.028729  0.023238   \n",
       "PRE14_OC12 -0.085956  0.009108 -0.005716  0.022059  ... -0.027995 -0.008102   \n",
       "PRE14_OC13 -0.002564 -0.057676 -0.013485 -0.027151  ...  0.032872 -0.019113   \n",
       "PRE14_OC14  0.033385  0.076231 -0.013090 -0.026356  ... -0.033787 -0.018554   \n",
       "\n",
       "            DGN_DGN8  PRE6_PRZ0  PRE6_PRZ1  PRE6_PRZ2  PRE14_OC11  PRE14_OC12  \\\n",
       "PRE4        0.112415   0.091676  -0.059074  -0.054305   -0.051342    0.045967   \n",
       "PRE5        0.097807   0.122200  -0.075981  -0.077864   -0.027142    0.031581   \n",
       "PRE7       -0.016689  -0.130120   0.094963   0.055036   -0.062585   -0.012271   \n",
       "PRE8       -0.026392  -0.108571   0.056983   0.090047   -0.060358    0.055849   \n",
       "PRE9       -0.016021  -0.079641   0.043890   0.061907   -0.109385    0.085741   \n",
       "PRE10      -0.100185  -0.756329   0.639483   0.146385   -0.119418    0.052269   \n",
       "PRE11      -0.030223  -0.273776   0.041967   0.428771    0.076196   -0.085956   \n",
       "PRE17      -0.018883  -0.057543   0.072425  -0.036000   -0.015969    0.009108   \n",
       "PRE19      -0.004415  -0.039993   0.046135  -0.016689    0.016395   -0.005716   \n",
       "PRE25      -0.008889  -0.042673   0.057191  -0.033601   -0.001438    0.022059   \n",
       "PRE30      -0.144959  -0.196868   0.164764   0.041452   -0.035411    0.021963   \n",
       "PRE32      -0.004415   0.035201  -0.024782  -0.016689    0.016395   -0.005716   \n",
       "AGE        -0.070519  -0.129298   0.005142   0.231603   -0.061531    0.088506   \n",
       "Risk1Yr     0.064532  -0.074188   0.031966   0.075355   -0.103948    0.018977   \n",
       "RATIO       0.000079   0.088237  -0.048433  -0.068975    0.012897    0.001531   \n",
       "DGN_DGN1   -0.003118   0.077975  -0.067594  -0.011788   -0.036760    0.043068   \n",
       "DGN_DGN2   -0.023083  -0.048634   0.029336   0.032779   -0.096843   -0.008539   \n",
       "DGN_DGN3   -0.114919   0.003633   0.020772  -0.047983    0.066293   -0.021526   \n",
       "DGN_DGN4   -0.022013   0.017212  -0.021414   0.010273   -0.016832    0.052781   \n",
       "DGN_DGN5   -0.011395  -0.013649   0.006437   0.012763    0.028729   -0.027995   \n",
       "DGN_DGN6   -0.006258  -0.003396  -0.035124   0.075999    0.023238   -0.008102   \n",
       "DGN_DGN8    1.000000   0.110394  -0.095698  -0.016689    0.016395   -0.005716   \n",
       "PRE6_PRZ0   0.110394   1.000000  -0.866878  -0.151175    0.081909   -0.026818   \n",
       "PRE6_PRZ1  -0.095698  -0.866878   1.000000  -0.361741   -0.103672    0.078568   \n",
       "PRE6_PRZ2  -0.016689  -0.151175  -0.361741   1.000000    0.052392   -0.105639   \n",
       "PRE14_OC11  0.016395   0.081909  -0.103672   0.052392    1.000000   -0.853523   \n",
       "PRE14_OC12 -0.005716  -0.026818   0.078568  -0.105639   -0.853523    1.000000   \n",
       "PRE14_OC13 -0.013485  -0.096637   0.068712   0.044472   -0.158962   -0.221163   \n",
       "PRE14_OC14 -0.013090  -0.039891  -0.011635   0.097670   -0.154307   -0.214686   \n",
       "\n",
       "            PRE14_OC13  PRE14_OC14  \n",
       "PRE4          0.014214   -0.003932  \n",
       "PRE5         -0.009747   -0.003461  \n",
       "PRE7          0.187642   -0.000431  \n",
       "PRE8         -0.014880    0.023089  \n",
       "PRE9          0.099504   -0.047503  \n",
       "PRE10         0.085648    0.080344  \n",
       "PRE11        -0.002564    0.033385  \n",
       "PRE17        -0.057676    0.076231  \n",
       "PRE19        -0.013485   -0.013090  \n",
       "PRE25        -0.027151   -0.026356  \n",
       "PRE30         0.003729    0.029115  \n",
       "PRE32        -0.013485   -0.013090  \n",
       "AGE          -0.014777   -0.059794  \n",
       "Risk1Yr       0.071368    0.142872  \n",
       "RATIO        -0.042488    0.006637  \n",
       "DGN_DGN1     -0.009525   -0.009246  \n",
       "DGN_DGN2      0.074983    0.193248  \n",
       "DGN_DGN3     -0.038772   -0.073295  \n",
       "DGN_DGN4     -0.029468   -0.065268  \n",
       "DGN_DGN5      0.032872   -0.033787  \n",
       "DGN_DGN6     -0.019113   -0.018554  \n",
       "DGN_DGN8     -0.013485   -0.013090  \n",
       "PRE6_PRZ0    -0.096637   -0.039891  \n",
       "PRE6_PRZ1     0.068712   -0.011635  \n",
       "PRE6_PRZ2     0.044472    0.097670  \n",
       "PRE14_OC11   -0.158962   -0.154307  \n",
       "PRE14_OC12   -0.221163   -0.214686  \n",
       "PRE14_OC13    1.000000   -0.039984  \n",
       "PRE14_OC14   -0.039984    1.000000  \n",
       "\n",
       "[29 rows x 29 columns]"
      ]
     },
     "execution_count": 39,
     "metadata": {},
     "output_type": "execute_result"
    }
   ],
   "source": [
    "# Find the correlation between our independent variables\n",
    "corr_matrix = df3.corr()\n",
    "corr_matrix"
   ]
  },
  {
   "cell_type": "code",
   "execution_count": 40,
   "metadata": {},
   "outputs": [
    {
     "data": {
      "text/plain": [
       "<matplotlib.axes._subplots.AxesSubplot at 0x9380fd9508>"
      ]
     },
     "execution_count": 40,
     "metadata": {},
     "output_type": "execute_result"
    },
    {
     "data": {
      "image/png": "[encoded data removed]",
      "text/plain": [
       "<Figure size 1800x1440 with 2 Axes>"
      ]
     },
     "metadata": {},
     "output_type": "display_data"
    }
   ],
   "source": [
    "# Let's make it look a little prettier\n",
    "corr_matrix = df3.corr()\n",
    "plt.figure(figsize=(25, 20))\n",
    "sns.heatmap(corr_matrix, annot=False, linewidths=0.5, cmap=\"YlGn\")"
   ]
  },
  {
   "cell_type": "markdown",
   "metadata": {},
   "source": [
    "<h5>MODELING</h5>"
   ]
  },
  {
   "cell_type": "code",
   "execution_count": 41,
   "metadata": {},
   "outputs": [
    {
     "data": {
      "text/html": [
       "<div>\n",
       "<style scoped>\n",
       "    .dataframe tbody tr th:only-of-type {\n",
       "        vertical-align: middle;\n",
       "    }\n",
       "\n",
       "    .dataframe tbody tr th {\n",
       "        vertical-align: top;\n",
       "    }\n",
       "\n",
       "    .dataframe thead th {\n",
       "        text-align: right;\n",
       "    }\n",
       "</style>\n",
       "<table border=\"1\" class=\"dataframe\">\n",
       "  <thead>\n",
       "    <tr style=\"text-align: right;\">\n",
       "      <th></th>\n",
       "      <th>PRE4</th>\n",
       "      <th>PRE5</th>\n",
       "      <th>PRE7</th>\n",
       "      <th>PRE8</th>\n",
       "      <th>PRE9</th>\n",
       "      <th>PRE10</th>\n",
       "      <th>PRE11</th>\n",
       "      <th>PRE17</th>\n",
       "      <th>PRE19</th>\n",
       "      <th>PRE25</th>\n",
       "      <th>...</th>\n",
       "      <th>DGN_DGN5</th>\n",
       "      <th>DGN_DGN6</th>\n",
       "      <th>DGN_DGN8</th>\n",
       "      <th>PRE6_PRZ0</th>\n",
       "      <th>PRE6_PRZ1</th>\n",
       "      <th>PRE6_PRZ2</th>\n",
       "      <th>PRE14_OC11</th>\n",
       "      <th>PRE14_OC12</th>\n",
       "      <th>PRE14_OC13</th>\n",
       "      <th>PRE14_OC14</th>\n",
       "    </tr>\n",
       "  </thead>\n",
       "  <tbody>\n",
       "    <tr>\n",
       "      <th>0</th>\n",
       "      <td>2.88</td>\n",
       "      <td>2.16</td>\n",
       "      <td>0</td>\n",
       "      <td>0</td>\n",
       "      <td>0</td>\n",
       "      <td>1</td>\n",
       "      <td>1</td>\n",
       "      <td>0</td>\n",
       "      <td>0</td>\n",
       "      <td>0</td>\n",
       "      <td>...</td>\n",
       "      <td>0</td>\n",
       "      <td>0</td>\n",
       "      <td>0</td>\n",
       "      <td>0</td>\n",
       "      <td>1</td>\n",
       "      <td>0</td>\n",
       "      <td>0</td>\n",
       "      <td>0</td>\n",
       "      <td>0</td>\n",
       "      <td>1</td>\n",
       "    </tr>\n",
       "    <tr>\n",
       "      <th>1</th>\n",
       "      <td>3.40</td>\n",
       "      <td>1.88</td>\n",
       "      <td>0</td>\n",
       "      <td>0</td>\n",
       "      <td>0</td>\n",
       "      <td>0</td>\n",
       "      <td>0</td>\n",
       "      <td>0</td>\n",
       "      <td>0</td>\n",
       "      <td>0</td>\n",
       "      <td>...</td>\n",
       "      <td>0</td>\n",
       "      <td>0</td>\n",
       "      <td>0</td>\n",
       "      <td>1</td>\n",
       "      <td>0</td>\n",
       "      <td>0</td>\n",
       "      <td>0</td>\n",
       "      <td>1</td>\n",
       "      <td>0</td>\n",
       "      <td>0</td>\n",
       "    </tr>\n",
       "    <tr>\n",
       "      <th>2</th>\n",
       "      <td>2.76</td>\n",
       "      <td>2.08</td>\n",
       "      <td>0</td>\n",
       "      <td>0</td>\n",
       "      <td>0</td>\n",
       "      <td>1</td>\n",
       "      <td>0</td>\n",
       "      <td>0</td>\n",
       "      <td>0</td>\n",
       "      <td>0</td>\n",
       "      <td>...</td>\n",
       "      <td>0</td>\n",
       "      <td>0</td>\n",
       "      <td>0</td>\n",
       "      <td>0</td>\n",
       "      <td>1</td>\n",
       "      <td>0</td>\n",
       "      <td>1</td>\n",
       "      <td>0</td>\n",
       "      <td>0</td>\n",
       "      <td>0</td>\n",
       "    </tr>\n",
       "    <tr>\n",
       "      <th>3</th>\n",
       "      <td>3.68</td>\n",
       "      <td>3.04</td>\n",
       "      <td>0</td>\n",
       "      <td>0</td>\n",
       "      <td>0</td>\n",
       "      <td>0</td>\n",
       "      <td>0</td>\n",
       "      <td>0</td>\n",
       "      <td>0</td>\n",
       "      <td>0</td>\n",
       "      <td>...</td>\n",
       "      <td>0</td>\n",
       "      <td>0</td>\n",
       "      <td>0</td>\n",
       "      <td>1</td>\n",
       "      <td>0</td>\n",
       "      <td>0</td>\n",
       "      <td>1</td>\n",
       "      <td>0</td>\n",
       "      <td>0</td>\n",
       "      <td>0</td>\n",
       "    </tr>\n",
       "    <tr>\n",
       "      <th>4</th>\n",
       "      <td>2.44</td>\n",
       "      <td>0.96</td>\n",
       "      <td>0</td>\n",
       "      <td>1</td>\n",
       "      <td>0</td>\n",
       "      <td>1</td>\n",
       "      <td>1</td>\n",
       "      <td>0</td>\n",
       "      <td>0</td>\n",
       "      <td>0</td>\n",
       "      <td>...</td>\n",
       "      <td>0</td>\n",
       "      <td>0</td>\n",
       "      <td>0</td>\n",
       "      <td>0</td>\n",
       "      <td>0</td>\n",
       "      <td>1</td>\n",
       "      <td>1</td>\n",
       "      <td>0</td>\n",
       "      <td>0</td>\n",
       "      <td>0</td>\n",
       "    </tr>\n",
       "  </tbody>\n",
       "</table>\n",
       "<p>5 rows × 29 columns</p>\n",
       "</div>"
      ],
      "text/plain": [
       "   PRE4  PRE5  PRE7  PRE8  PRE9  PRE10  PRE11  PRE17  PRE19  PRE25  ...  \\\n",
       "0  2.88  2.16     0     0     0      1      1      0      0      0  ...   \n",
       "1  3.40  1.88     0     0     0      0      0      0      0      0  ...   \n",
       "2  2.76  2.08     0     0     0      1      0      0      0      0  ...   \n",
       "3  3.68  3.04     0     0     0      0      0      0      0      0  ...   \n",
       "4  2.44  0.96     0     1     0      1      1      0      0      0  ...   \n",
       "\n",
       "   DGN_DGN5  DGN_DGN6  DGN_DGN8  PRE6_PRZ0  PRE6_PRZ1  PRE6_PRZ2  PRE14_OC11  \\\n",
       "0         0         0         0          0          1          0           0   \n",
       "1         0         0         0          1          0          0           0   \n",
       "2         0         0         0          0          1          0           1   \n",
       "3         0         0         0          1          0          0           1   \n",
       "4         0         0         0          0          0          1           1   \n",
       "\n",
       "   PRE14_OC12  PRE14_OC13  PRE14_OC14  \n",
       "0           0           0           1  \n",
       "1           1           0           0  \n",
       "2           0           0           0  \n",
       "3           0           0           0  \n",
       "4           0           0           0  \n",
       "\n",
       "[5 rows x 29 columns]"
      ]
     },
     "execution_count": 41,
     "metadata": {},
     "output_type": "execute_result"
    }
   ],
   "source": [
    "df3.head()"
   ]
  },
  {
   "cell_type": "code",
   "execution_count": 42,
   "metadata": {},
   "outputs": [],
   "source": [
    "X = df3.drop(\"Risk1Yr\", axis=1)\n",
    "y = df3['Risk1Yr']"
   ]
  },
  {
   "cell_type": "code",
   "execution_count": 43,
   "metadata": {},
   "outputs": [
    {
     "data": {
      "text/plain": [
       "0    386\n",
       "1     69\n",
       "Name: Risk1Yr, dtype: int64"
      ]
     },
     "execution_count": 43,
     "metadata": {},
     "output_type": "execute_result"
    }
   ],
   "source": [
    "# dataset is small and unbalanced: that's not good\n",
    "y.value_counts()"
   ]
  },
  {
   "cell_type": "code",
   "execution_count": 44,
   "metadata": {},
   "outputs": [],
   "source": [
    "# using SMOTE to take care of data\n",
    "# MORE: https://imbalanced-learn.readthedocs.io/en/stable/generated/imblearn.over_sampling.SMOTE.html\n",
    "smote = SMOTE(sampling_strategy='minority')\n",
    "X_sm, y_sm = smote.fit_sample(X, y)"
   ]
  },
  {
   "cell_type": "code",
   "execution_count": 45,
   "metadata": {},
   "outputs": [
    {
     "data": {
      "text/plain": [
       "1    386\n",
       "0    386\n",
       "Name: Risk1Yr, dtype: int64"
      ]
     },
     "execution_count": 45,
     "metadata": {},
     "output_type": "execute_result"
    }
   ],
   "source": [
    "# now the dataset is still small, but more balanced\n",
    "y_sm.value_counts()"
   ]
  },
  {
   "cell_type": "code",
   "execution_count": 46,
   "metadata": {},
   "outputs": [],
   "source": [
    "# making a dictionary in which we include three models with some parameters pre-set.\n",
    "model_params = {\n",
    "    'random_forest' :{\n",
    "        'model' : RandomForestClassifier(),\n",
    "        'params' : {\n",
    "            'n_estimators' : [1, 5, 10]\n",
    "        }\n",
    "    },\n",
    "    \n",
    "    'svm' : {\n",
    "        'model' : SVC(gamma = 'auto'),\n",
    "        'params' : {\n",
    "            'C' : [0.1, 1, 10, 100],\n",
    "            'kernel' : [\"rbf\", \"linear\"]\n",
    "        }\n",
    "    },\n",
    "    \n",
    "    'logistics_regression' : {\n",
    "        'model' : LogisticRegression(solver = 'liblinear', multi_class = 'auto'),\n",
    "        'params' : {\n",
    "            'C' : [0.1, 1, 10, 100]\n",
    "        }\n",
    "    }\n",
    "}"
   ]
  },
  {
   "cell_type": "code",
   "execution_count": 47,
   "metadata": {},
   "outputs": [],
   "source": [
    "# implement GridSearchCV for three models using a loop and a previously created dictionary\n",
    "# in the created variable scores, we save best_score and best_params for each model\n",
    "scores = []\n",
    "\n",
    "for model_name, mp in model_params.items():\n",
    "    clf = GridSearchCV(mp['model'], mp['params'], cv=5)\n",
    "    clf.fit(X_sm, y_sm)\n",
    "    scores.append({\n",
    "        'model' : model_name,\n",
    "        'best_score' : clf.best_score_,\n",
    "        'best_params' : clf.best_params_\n",
    "    })"
   ]
  },
  {
   "cell_type": "code",
   "execution_count": 77,
   "metadata": {},
   "outputs": [
    {
     "data": {
      "text/html": [
       "<div>\n",
       "<style scoped>\n",
       "    .dataframe tbody tr th:only-of-type {\n",
       "        vertical-align: middle;\n",
       "    }\n",
       "\n",
       "    .dataframe tbody tr th {\n",
       "        vertical-align: top;\n",
       "    }\n",
       "\n",
       "    .dataframe thead th {\n",
       "        text-align: right;\n",
       "    }\n",
       "</style>\n",
       "<table border=\"1\" class=\"dataframe\">\n",
       "  <thead>\n",
       "    <tr style=\"text-align: right;\">\n",
       "      <th></th>\n",
       "      <th>model</th>\n",
       "      <th>best_score</th>\n",
       "      <th>best_params</th>\n",
       "    </tr>\n",
       "  </thead>\n",
       "  <tbody>\n",
       "    <tr>\n",
       "      <th>0</th>\n",
       "      <td>random_forest</td>\n",
       "      <td>0.852501</td>\n",
       "      <td>{'n_estimators': 10}</td>\n",
       "    </tr>\n",
       "    <tr>\n",
       "      <th>1</th>\n",
       "      <td>svm</td>\n",
       "      <td>0.853817</td>\n",
       "      <td>{'C': 10, 'kernel': 'rbf'}</td>\n",
       "    </tr>\n",
       "    <tr>\n",
       "      <th>2</th>\n",
       "      <td>logistics_regression</td>\n",
       "      <td>0.812451</td>\n",
       "      <td>{'C': 100}</td>\n",
       "    </tr>\n",
       "  </tbody>\n",
       "</table>\n",
       "</div>"
      ],
      "text/plain": [
       "                  model  best_score                 best_params\n",
       "0         random_forest    0.852501        {'n_estimators': 10}\n",
       "1                   svm    0.853817  {'C': 10, 'kernel': 'rbf'}\n",
       "2  logistics_regression    0.812451                  {'C': 100}"
      ]
     },
     "execution_count": 77,
     "metadata": {},
     "output_type": "execute_result"
    }
   ],
   "source": [
    "# making data frame\n",
    "sc = pd.DataFrame(scores, columns=['model', 'best_score', 'best_params'])\n",
    "sc"
   ]
  },
  {
   "cell_type": "markdown",
   "metadata": {},
   "source": [
    "<p>Further, I focused on two models</p>"
   ]
  },
  {
   "cell_type": "code",
   "execution_count": 49,
   "metadata": {},
   "outputs": [],
   "source": [
    "# split the data\n",
    "X_train, X_test, y_train, y_test = train_test_split(X_sm, y_sm, test_size=0.33, random_state = 42)"
   ]
  },
  {
   "cell_type": "markdown",
   "metadata": {},
   "source": [
    "<h4>SVM Model</h4>"
   ]
  },
  {
   "cell_type": "code",
   "execution_count": 50,
   "metadata": {},
   "outputs": [
    {
     "data": {
      "text/plain": [
       "SVC(C=100)"
      ]
     },
     "execution_count": 50,
     "metadata": {},
     "output_type": "execute_result"
    }
   ],
   "source": [
    "# implementing SVC model with best_params\n",
    "clf_svm = SVC(C = 100, kernel = 'rbf')\n",
    "clf_svm.fit(X_train, y_train)"
   ]
  },
  {
   "cell_type": "code",
   "execution_count": 51,
   "metadata": {},
   "outputs": [
    {
     "data": {
      "text/plain": [
       "<sklearn.metrics._plot.confusion_matrix.ConfusionMatrixDisplay at 0x9382107888>"
      ]
     },
     "execution_count": 51,
     "metadata": {},
     "output_type": "execute_result"
    },
    {
     "data": {
      "image/png": "[encoded data removed]",
      "text/plain": [
       "<Figure size 432x288 with 2 Axes>"
      ]
     },
     "metadata": {},
     "output_type": "display_data"
    }
   ],
   "source": [
    "# confusion matrix SVC\n",
    "plot_confusion_matrix(clf_svm,\n",
    "                     X_test,\n",
    "                     y_test,\n",
    "                     values_format = 'd',\n",
    "                     display_labels=['Risk1Yr:0', 'Risk1Yr:1'])"
   ]
  },
  {
   "cell_type": "code",
   "execution_count": 52,
   "metadata": {},
   "outputs": [],
   "source": [
    "# Now predict values for the testing data\n",
    "predictions_svm = clf_svm.predict(X_test)"
   ]
  },
  {
   "cell_type": "code",
   "execution_count": 53,
   "metadata": {},
   "outputs": [
    {
     "name": "stdout",
     "output_type": "stream",
     "text": [
      "              precision    recall  f1-score   support\n",
      "\n",
      "           0       0.78      0.70      0.73       139\n",
      "           1       0.68      0.76      0.72       116\n",
      "\n",
      "    accuracy                           0.73       255\n",
      "   macro avg       0.73      0.73      0.73       255\n",
      "weighted avg       0.73      0.73      0.73       255\n",
      "\n"
     ]
    }
   ],
   "source": [
    "# Create a classification report for the model SVC\n",
    "print(classification_report(y_test,predictions_svm))"
   ]
  },
  {
   "cell_type": "markdown",
   "metadata": {},
   "source": [
    "<h4>Random Forest Classifier Model</h4>"
   ]
  },
  {
   "cell_type": "code",
   "execution_count": 54,
   "metadata": {},
   "outputs": [
    {
     "data": {
      "text/plain": [
       "RandomForestClassifier(n_estimators=10)"
      ]
     },
     "execution_count": 54,
     "metadata": {},
     "output_type": "execute_result"
    }
   ],
   "source": [
    "# implementing RFC model with best_params\n",
    "clf_rfc = RandomForestClassifier(n_estimators =  10)\n",
    "clf_rfc.fit(X_train, y_train)"
   ]
  },
  {
   "cell_type": "code",
   "execution_count": 55,
   "metadata": {},
   "outputs": [
    {
     "data": {
      "text/plain": [
       "<sklearn.metrics._plot.confusion_matrix.ConfusionMatrixDisplay at 0x938206ebc8>"
      ]
     },
     "execution_count": 55,
     "metadata": {},
     "output_type": "execute_result"
    },
    {
     "data": {
      "image/png": "[encoded data removed]",
      "text/plain": [
       "<Figure size 432x288 with 2 Axes>"
      ]
     },
     "metadata": {},
     "output_type": "display_data"
    }
   ],
   "source": [
    "# confusion matrix RFC\n",
    "plot_confusion_matrix(clf_rfc,\n",
    "                     X_test,\n",
    "                     y_test,\n",
    "                     values_format = 'd',\n",
    "                     display_labels=['Risk1Yr:0', 'Risk1Yr:1'])"
   ]
  },
  {
   "cell_type": "code",
   "execution_count": 56,
   "metadata": {},
   "outputs": [],
   "source": [
    "# Create a classification report for the RFC model \n",
    "predictions_rfc = clf_rfc.predict(X_test)"
   ]
  },
  {
   "cell_type": "code",
   "execution_count": 57,
   "metadata": {},
   "outputs": [
    {
     "name": "stdout",
     "output_type": "stream",
     "text": [
      "              precision    recall  f1-score   support\n",
      "\n",
      "           0       0.86      0.79      0.82       139\n",
      "           1       0.77      0.84      0.81       116\n",
      "\n",
      "    accuracy                           0.82       255\n",
      "   macro avg       0.82      0.82      0.82       255\n",
      "weighted avg       0.82      0.82      0.82       255\n",
      "\n"
     ]
    }
   ],
   "source": [
    "# Create a classification report for the RFC model \n",
    "print(classification_report(y_test,predictions_rfc))"
   ]
  },
  {
   "cell_type": "markdown",
   "metadata": {},
   "source": [
    "<h4>Cross Validation SVM<h4>"
   ]
  },
  {
   "cell_type": "code",
   "execution_count": 85,
   "metadata": {},
   "outputs": [
    {
     "data": {
      "text/plain": [
       "array([0.55483871, 0.87096774, 0.87012987, 0.79220779, 0.83766234])"
      ]
     },
     "execution_count": 85,
     "metadata": {},
     "output_type": "execute_result"
    }
   ],
   "source": [
    "# Cross-validated accuracy score\n",
    "cv_acc_svm = cross_val_score(clf_svm,\n",
    "                         X_sm,\n",
    "                         y_sm,\n",
    "                         cv=5, # 5-fold cross-validation\n",
    "                         scoring=\"accuracy\") # accuracy as scoring\n",
    "cv_acc_svm"
   ]
  },
  {
   "cell_type": "code",
   "execution_count": 86,
   "metadata": {},
   "outputs": [
    {
     "data": {
      "text/plain": [
       "0.7851612903225805"
      ]
     },
     "execution_count": 86,
     "metadata": {},
     "output_type": "execute_result"
    }
   ],
   "source": [
    "# accuracy mean\n",
    "cv_acc_svm = np.mean(cv_acc_svm)\n",
    "cv_acc_svm"
   ]
  },
  {
   "cell_type": "code",
   "execution_count": 87,
   "metadata": {},
   "outputs": [
    {
     "data": {
      "text/plain": [
       "0.8898941720446061"
      ]
     },
     "execution_count": 87,
     "metadata": {},
     "output_type": "execute_result"
    }
   ],
   "source": [
    "# Cross-validated precision score\n",
    "\n",
    "cv_precision_svm = np.mean(cross_val_score(clf_svm,\n",
    "                                       X_sm,\n",
    "                                       y_sm,\n",
    "                                       cv=5, # 5-fold cross-validation\n",
    "                                       scoring=\"precision\")) # precision as scoring\n",
    "# precision mean\n",
    "cv_precision_svm"
   ]
  },
  {
   "cell_type": "code",
   "execution_count": 88,
   "metadata": {},
   "outputs": [
    {
     "data": {
      "text/plain": [
       "0.6394605394605394"
      ]
     },
     "execution_count": 88,
     "metadata": {},
     "output_type": "execute_result"
    }
   ],
   "source": [
    "# Cross-validated recall score\n",
    "\n",
    "cv_recall_svm = np.mean(cross_val_score(clf_svm,\n",
    "                                    X_sm,\n",
    "                                    y_sm,\n",
    "                                    cv=5, # 5-fold cross-validation\n",
    "                                    scoring=\"recall\")) # recall as scoring\n",
    "# recall mean\n",
    "cv_recall_svm"
   ]
  },
  {
   "cell_type": "code",
   "execution_count": 89,
   "metadata": {},
   "outputs": [
    {
     "data": {
      "text/plain": [
       "0.7085179756513469"
      ]
     },
     "execution_count": 89,
     "metadata": {},
     "output_type": "execute_result"
    }
   ],
   "source": [
    "# Cross-validated F1 score\n",
    "cv_f1_svm = np.mean(cross_val_score(clf_svm,\n",
    "                                X_sm,\n",
    "                                y_sm,\n",
    "                                cv=5, # 5-fold cross-validation\n",
    "                                scoring=\"f1\")) # f1 as scoring\n",
    "# f1 score mean\n",
    "cv_f1_svm"
   ]
  },
  {
   "cell_type": "code",
   "execution_count": 90,
   "metadata": {},
   "outputs": [
    {
     "data": {
      "image/png": "[encoded data removed]",
      "text/plain": [
       "<Figure size 432x288 with 1 Axes>"
      ]
     },
     "metadata": {},
     "output_type": "display_data"
    }
   ],
   "source": [
    "# Visualizing cross-validated metrics SVM Model\n",
    "cv_metrics_svm = pd.DataFrame({\"Accuracy\": cv_acc_svm,\n",
    "                            \"Precision\": cv_precision_svm,\n",
    "                            \"Recall\": cv_recall_svm,\n",
    "                            \"F1\": cv_f1_svm},\n",
    "                          index=[0])\n",
    "cv_metrics_svm.T.plot.bar(title=\"Cross-Validated Metrics SVM Model\", legend=False);"
   ]
  },
  {
   "cell_type": "markdown",
   "metadata": {},
   "source": [
    "<h4>Cross Validation RFC<h4>"
   ]
  },
  {
   "cell_type": "code",
   "execution_count": 91,
   "metadata": {},
   "outputs": [
    {
     "data": {
      "text/plain": [
       "0.8590448261416004"
      ]
     },
     "execution_count": 91,
     "metadata": {},
     "output_type": "execute_result"
    }
   ],
   "source": [
    "# Cross-validated accuracy score\n",
    "cv_acc_rfc = np.mean(cross_val_score(clf_rfc,\n",
    "                         X_sm,\n",
    "                         y_sm,\n",
    "                         cv=5, # 5-fold cross-validation\n",
    "                         scoring=\"accuracy\")) # accuracy as scoring\n",
    "# acc mean\n",
    "cv_acc_rfc"
   ]
  },
  {
   "cell_type": "code",
   "execution_count": 92,
   "metadata": {},
   "outputs": [
    {
     "data": {
      "text/plain": [
       "0.8783389450056116"
      ]
     },
     "execution_count": 92,
     "metadata": {},
     "output_type": "execute_result"
    }
   ],
   "source": [
    "# Cross-validated precision score\n",
    "\n",
    "cv_precision_rfc = np.mean(cross_val_score(clf_rfc,\n",
    "                                       X_sm,\n",
    "                                       y_sm,\n",
    "                                       cv=5, # 5-fold cross-validation\n",
    "                                       scoring=\"precision\")) # precision as scoring\n",
    "# precision mean\n",
    "cv_precision_rfc"
   ]
  },
  {
   "cell_type": "code",
   "execution_count": 93,
   "metadata": {},
   "outputs": [
    {
     "data": {
      "text/plain": [
       "0.8390942390942391"
      ]
     },
     "execution_count": 93,
     "metadata": {},
     "output_type": "execute_result"
    }
   ],
   "source": [
    "# Cross-validated recall score\n",
    "\n",
    "cv_recall_rfc = np.mean(cross_val_score(clf_rfc,\n",
    "                                    X_sm,\n",
    "                                    y_sm,\n",
    "                                    cv=5, # 5-fold cross-validation\n",
    "                                    scoring=\"recall\")) # recall as scoring\n",
    "# recall mean\n",
    "cv_recall_rfc"
   ]
  },
  {
   "cell_type": "code",
   "execution_count": 94,
   "metadata": {},
   "outputs": [
    {
     "data": {
      "text/plain": [
       "0.8381548824578682"
      ]
     },
     "execution_count": 94,
     "metadata": {},
     "output_type": "execute_result"
    }
   ],
   "source": [
    "# Cross-validated F1 score\n",
    "cv_f1_rfc = np.mean(cross_val_score(clf_rfc,\n",
    "                                X_sm,\n",
    "                                y_sm,\n",
    "                                cv=5, # 5-fold cross-validation\n",
    "                                scoring=\"f1\")) # f1 as scoring\n",
    "# f1 score mean\n",
    "cv_f1_rfc"
   ]
  },
  {
   "cell_type": "code",
   "execution_count": 99,
   "metadata": {},
   "outputs": [
    {
     "data": {
      "image/png": "[encoded data removed]",
      "text/plain": [
       "<Figure size 432x288 with 1 Axes>"
      ]
     },
     "metadata": {},
     "output_type": "display_data"
    }
   ],
   "source": [
    "# Visualizing cross-validated metrics RFC Model\n",
    "cv_metrics_rfc = pd.DataFrame({\"Accuracy\": cv_acc_rfc,\n",
    "                            \"Precision\": cv_precision_rfc,\n",
    "                            \"Recall\": cv_recall_rfc,\n",
    "                            \"F1\": cv_f1_rfc},\n",
    "                          index=[0])\n",
    "cv_metrics_rfc.T.plot.bar(title=\"Cross-Validated Metrics RFC Model\", legend=False);"
   ]
  },
  {
   "cell_type": "markdown",
   "metadata": {},
   "source": [
    "<h5>Summary</h5>"
   ]
  },
  {
   "cell_type": "code",
   "execution_count": 147,
   "metadata": {},
   "outputs": [],
   "source": [
    "# concat two dataframes cv_metrics_rfc and cv_metrics_svm\n",
    "cv_metrics_rfc['Key'] = 'RFC'\n",
    "cv_metrics_svm['Key'] = 'SVM'\n",
    "df_summary = pd.concat([df_rfc,df_svm],keys=['RFC','SVM'])"
   ]
  },
  {
   "cell_type": "code",
   "execution_count": 149,
   "metadata": {},
   "outputs": [
    {
     "data": {
      "text/plain": [
       "Text(0.5, 0, 'Model Type')"
      ]
     },
     "execution_count": 149,
     "metadata": {},
     "output_type": "execute_result"
    },
    {
     "data": {
      "image/png": "[encoded data removed]",
      "text/plain": [
       "<Figure size 1080x720 with 1 Axes>"
      ]
     },
     "metadata": {},
     "output_type": "display_data"
    }
   ],
   "source": [
    "df_summary.plot.bar(x='Key', title='Random Forest Classifier vs Support Vector Machine', \n",
    "                    figsize=(15,10), fontsize=12).set_xlabel('Model Type')"
   ]
  },
  {
   "cell_type": "code",
   "execution_count": null,
   "metadata": {},
   "outputs": [],
   "source": []
  }
 ],
 "metadata": {
  "kernelspec": {
   "display_name": "Python 3",
   "language": "python",
   "name": "python3"
  },
  "language_info": {
   "codemirror_mode": {
    "name": "ipython",
    "version": 3
   },
   "file_extension": ".py",
   "mimetype": "text/x-python",
   "name": "python",
   "nbconvert_exporter": "python",
   "pygments_lexer": "ipython3",
   "version": "3.7.6"
  }
 },
 "nbformat": 4,
 "nbformat_minor": 4
}
